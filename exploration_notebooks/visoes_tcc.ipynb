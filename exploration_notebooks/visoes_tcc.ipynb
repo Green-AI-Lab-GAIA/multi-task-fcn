{
 "cells": [
  {
   "cell_type": "code",
   "execution_count": 10,
   "metadata": {},
   "outputs": [],
   "source": [
    "import sys\n",
    "sys.path.append(\"..\")\n",
    "\n",
    "import matplotlib.pyplot as plt\n",
    "import numpy as np\n",
    "import os\n",
    "import seaborn as sns\n",
    "import pandas as pd\n",
    "\n",
    "import geopandas as gpd\n",
    "from src.utils import read_tiff\n",
    "\n",
    "from skimage.measure import label\n",
    "import rasterio"
   ]
  },
  {
   "cell_type": "markdown",
   "metadata": {},
   "source": [
    "# Leitura dos dados"
   ]
  },
  {
   "cell_type": "code",
   "execution_count": 5,
   "metadata": {},
   "outputs": [],
   "source": [
    "df_samples = gpd.read_file(\"../Original Data Source/orthoimages/samplesA1_new.shp\")\n",
    "\n",
    "df_test = gpd.read_file(\"../Original Data Source/test_save/test.shp\")\n",
    "# test_shape.plot(column='amostras', legend=True)"
   ]
  },
  {
   "cell_type": "code",
   "execution_count": 9,
   "metadata": {},
   "outputs": [],
   "source": [
    "train_img = read_tiff(\"../input_data/segmentation/samples_A1_train2tif.tif\")\n",
    "test_img = read_tiff(\"../input_data/segmentation/samples_A1_test2tif.tif\")"
   ]
  },
  {
   "cell_type": "markdown",
   "metadata": {},
   "source": [
    "# Visão Geral"
   ]
  },
  {
   "cell_type": "code",
   "execution_count": 18,
   "metadata": {},
   "outputs": [
    {
     "name": "stdout",
     "output_type": "stream",
     "text": [
      "Quantas amostras de treino?\n",
      "38\n",
      "Quantas amostras de teste?\n",
      "32\n"
     ]
    }
   ],
   "source": [
    "print(\"Quantas amostras de treino?\")\n",
    "print(np.unique(label(train_img)).shape[0]-1)\n",
    "\n",
    "\n",
    "print(\"Quantas amostras de teste?\")\n",
    "print(np.unique(label(test_img)).shape[0]-1)"
   ]
  },
  {
   "cell_type": "code",
   "execution_count": 19,
   "metadata": {},
   "outputs": [
    {
     "data": {
      "text/html": [
       "<div>\n",
       "<style scoped>\n",
       "    .dataframe tbody tr th:only-of-type {\n",
       "        vertical-align: middle;\n",
       "    }\n",
       "\n",
       "    .dataframe tbody tr th {\n",
       "        vertical-align: top;\n",
       "    }\n",
       "\n",
       "    .dataframe thead th {\n",
       "        text-align: right;\n",
       "    }\n",
       "</style>\n",
       "<table border=\"1\" class=\"dataframe\">\n",
       "  <thead>\n",
       "    <tr style=\"text-align: right;\">\n",
       "      <th></th>\n",
       "      <th>id</th>\n",
       "      <th>amostras</th>\n",
       "      <th>geometry</th>\n",
       "    </tr>\n",
       "  </thead>\n",
       "  <tbody>\n",
       "    <tr>\n",
       "      <th>0</th>\n",
       "      <td>1</td>\n",
       "      <td>acoita</td>\n",
       "      <td>POLYGON ((524224.996 6981976.491, 524226.584 6...</td>\n",
       "    </tr>\n",
       "    <tr>\n",
       "      <th>1</th>\n",
       "      <td>2</td>\n",
       "      <td>acoita</td>\n",
       "      <td>POLYGON ((524231.805 6981978.283, 524232.897 6...</td>\n",
       "    </tr>\n",
       "    <tr>\n",
       "      <th>2</th>\n",
       "      <td>3</td>\n",
       "      <td>acoita</td>\n",
       "      <td>POLYGON ((524330.580 6981932.615, 524328.778 6...</td>\n",
       "    </tr>\n",
       "    <tr>\n",
       "      <th>3</th>\n",
       "      <td>4</td>\n",
       "      <td>bracatinga</td>\n",
       "      <td>POLYGON ((524111.287 6981865.037, 524111.616 6...</td>\n",
       "    </tr>\n",
       "    <tr>\n",
       "      <th>4</th>\n",
       "      <td>5</td>\n",
       "      <td>bracatinga</td>\n",
       "      <td>POLYGON ((524112.236 6981866.729, 524113.373 6...</td>\n",
       "    </tr>\n",
       "    <tr>\n",
       "      <th>...</th>\n",
       "      <td>...</td>\n",
       "      <td>...</td>\n",
       "      <td>...</td>\n",
       "    </tr>\n",
       "    <tr>\n",
       "      <th>75</th>\n",
       "      <td>76</td>\n",
       "      <td>cinnamodendrum</td>\n",
       "      <td>POLYGON ((524207.565 6981799.412, 524208.478 6...</td>\n",
       "    </tr>\n",
       "    <tr>\n",
       "      <th>76</th>\n",
       "      <td>77</td>\n",
       "      <td>acoita</td>\n",
       "      <td>POLYGON ((524325.085 6981938.102, 524325.526 6...</td>\n",
       "    </tr>\n",
       "    <tr>\n",
       "      <th>77</th>\n",
       "      <td>78</td>\n",
       "      <td>acoita</td>\n",
       "      <td>POLYGON ((524355.415 6981754.488, 524355.909 6...</td>\n",
       "    </tr>\n",
       "    <tr>\n",
       "      <th>78</th>\n",
       "      <td>79</td>\n",
       "      <td>matayba</td>\n",
       "      <td>POLYGON ((524062.804 6981951.159, 524063.346 6...</td>\n",
       "    </tr>\n",
       "    <tr>\n",
       "      <th>79</th>\n",
       "      <td>80</td>\n",
       "      <td>bracatinga</td>\n",
       "      <td>POLYGON ((524083.482 6982032.861, 524082.992 6...</td>\n",
       "    </tr>\n",
       "  </tbody>\n",
       "</table>\n",
       "<p>80 rows × 3 columns</p>\n",
       "</div>"
      ],
      "text/plain": [
       "    id        amostras                                           geometry\n",
       "0    1          acoita  POLYGON ((524224.996 6981976.491, 524226.584 6...\n",
       "1    2          acoita  POLYGON ((524231.805 6981978.283, 524232.897 6...\n",
       "2    3          acoita  POLYGON ((524330.580 6981932.615, 524328.778 6...\n",
       "3    4      bracatinga  POLYGON ((524111.287 6981865.037, 524111.616 6...\n",
       "4    5      bracatinga  POLYGON ((524112.236 6981866.729, 524113.373 6...\n",
       "..  ..             ...                                                ...\n",
       "75  76  cinnamodendrum  POLYGON ((524207.565 6981799.412, 524208.478 6...\n",
       "76  77          acoita  POLYGON ((524325.085 6981938.102, 524325.526 6...\n",
       "77  78          acoita  POLYGON ((524355.415 6981754.488, 524355.909 6...\n",
       "78  79         matayba  POLYGON ((524062.804 6981951.159, 524063.346 6...\n",
       "79  80      bracatinga  POLYGON ((524083.482 6982032.861, 524082.992 6...\n",
       "\n",
       "[80 rows x 3 columns]"
      ]
     },
     "execution_count": 19,
     "metadata": {},
     "output_type": "execute_result"
    }
   ],
   "source": [
    "df_samples"
   ]
  },
  {
   "cell_type": "code",
   "execution_count": null,
   "metadata": {},
   "outputs": [],
   "source": [
    "fig, ax = plt.subplots(figsize=(9,21))\n",
    "shapefile.plot(column=\"amostras\", ax=ax, legend=True)\n",
    "# outside legend\n",
    "ax.get_legend().set_bbox_to_anchor((1.2, 1))\n",
    "ax.set_xticks([])\n",
    "ax.set_yticks([])\n",
    "plt.show()"
   ]
  },
  {
   "cell_type": "code",
   "execution_count": 8,
   "metadata": {},
   "outputs": [],
   "source": []
  }
 ],
 "metadata": {
  "kernelspec": {
   "display_name": "Python 3",
   "language": "python",
   "name": "python3"
  },
  "language_info": {
   "codemirror_mode": {
    "name": "ipython",
    "version": 3
   },
   "file_extension": ".py",
   "mimetype": "text/x-python",
   "name": "python",
   "nbconvert_exporter": "python",
   "pygments_lexer": "ipython3",
   "version": "3.8.10"
  }
 },
 "nbformat": 4,
 "nbformat_minor": 2
}
