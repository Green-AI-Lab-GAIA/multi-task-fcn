{
 "cells": [
  {
   "cell_type": "code",
   "execution_count": 2,
   "metadata": {},
   "outputs": [],
   "source": [
    "import matplotlib.pyplot as plt\n",
    "import matplotlib.patches as patches\n",
    "\n",
    "import sys\n",
    "\n",
    "sys.path.append(\"..\")\n",
    "\n",
    "import os\n",
    "from PIL import Image\n",
    "from collections.abc import Iterable\n",
    "from os.path import dirname, join, abspath\n",
    "\n",
    "import matplotlib.pyplot as plt\n",
    "from matplotlib.animation import FuncAnimation\n",
    "from matplotlib.colors import ListedColormap\n",
    "\n",
    "import numpy as np\n",
    "import pandas as pd\n",
    "import seaborn as sns\n",
    "import torch.optim\n",
    "from joblib import Parallel, delayed\n",
    "from matplotlib.ticker import FuncFormatter\n",
    "from skimage.color import label2rgb\n",
    "# load label\n",
    "from skimage.measure import label, find_contours\n",
    "from skimage import transform\n",
    "import subprocess\n",
    "\n",
    "from utils import *\n",
    "from pred2raster import pred2raster\n",
    "from sample_selection import get_components_stats\n",
    "from src.io_operations import fix_relative_paths, load_args, read_tiff, read_yaml\n",
    "\n",
    "from IPython.display import HTML, display\n",
    "\n",
    "from millify import  millify\n",
    "\n",
    "from matplotlib import rc\n",
    "\n",
    "from statistics import mode\n",
    "\n",
    "from tqdm import tqdm\n",
    "from seaborn import color_palette\n",
    "from glob import glob\n",
    "\n",
    "from scipy.ndimage import distance_transform_edt, gaussian_filter\n",
    "import gc\n",
    "# mulit process pool executor\n",
    "from concurrent.futures import ProcessPoolExecutor"
   ]
  },
  {
   "cell_type": "code",
   "execution_count": 3,
   "metadata": {},
   "outputs": [],
   "source": [
    "ORTHOIMAGE = read_tiff(\"../amazon_input_data/orthoimage/NOV_2017_FINAL_004.tif\")\n",
    "ORTHOIMAGE = np.moveaxis(ORTHOIMAGE, 0, 2)"
   ]
  },
  {
   "cell_type": "code",
   "execution_count": 4,
   "metadata": {},
   "outputs": [],
   "source": [
    "LABEL_GT_TRAIN = read_tiff(\n",
    "    \"../amazon_input_data/segmentation/train_set.tif\"\n",
    ")\n",
    "\n",
    "LABEL_GT_TEST = read_tiff(\n",
    "    \"../amazon_input_data/segmentation/test_set.tif\"\n",
    ")\n",
    "\n",
    "LABEL_GT_FULL = read_tiff(\n",
    "    \"../amazon_input_data/segmentation/full_set.tif\"\n",
    ")"
   ]
  },
  {
   "cell_type": "code",
   "execution_count": 5,
   "metadata": {},
   "outputs": [],
   "source": [
    "COMP_GT_TRAIN = label(LABEL_GT_TRAIN)\n",
    "COMP_GT_TEST = label(LABEL_GT_TEST)\n",
    "COMP_GT_FULL = label(LABEL_GT_FULL)"
   ]
  },
  {
   "cell_type": "code",
   "execution_count": 6,
   "metadata": {},
   "outputs": [],
   "source": [
    "id_tree = pd.read_csv(\n",
    "    \"../amazon_input_data/id_trees.csv\"\n",
    ").set_index(\"label_num\")[\"tree_name\"]"
   ]
  },
  {
   "cell_type": "markdown",
   "metadata": {},
   "source": [
    "# Tabela com Descrição do Dataset"
   ]
  },
  {
   "cell_type": "code",
   "execution_count": 7,
   "metadata": {},
   "outputs": [],
   "source": [
    "train_stats = get_components_stats(COMP_GT_TRAIN, LABEL_GT_TRAIN)\n",
    "test_stats = get_components_stats(COMP_GT_TEST, LABEL_GT_TEST)\n",
    "full_stats = get_components_stats(COMP_GT_FULL, LABEL_GT_FULL)"
   ]
  },
  {
   "cell_type": "code",
   "execution_count": 8,
   "metadata": {},
   "outputs": [],
   "source": [
    "train_stats[\"tree_name\"] = train_stats[\"tree_type\"].map(id_tree)\n",
    "test_stats[\"tree_name\"] = test_stats[\"tree_type\"].map(id_tree)\n",
    "full_stats[\"tree_name\"] = full_stats[\"tree_type\"].map(id_tree)"
   ]
  },
  {
   "cell_type": "code",
   "execution_count": 9,
   "metadata": {},
   "outputs": [
    {
     "data": {
      "text/plain": [
       "tree_name\n",
       "Abiorana Rosa      72\n",
       "Angico Angico       6\n",
       "Angico Vermelho    14\n",
       "Castanheira        83\n",
       "Cedro Cedro        52\n",
       "Cerejeira          14\n",
       "Cumaru Ferro       20\n",
       "Garapeira          45\n",
       "Guaribeiro         24\n",
       "Guariuba           18\n",
       "Ipe                20\n",
       "Jutai              32\n",
       "Massaranduba        9\n",
       "Samauma            11\n",
       "Tachi              25\n",
       "Tauari             67\n",
       "Ucuuba              6\n",
       "dtype: int64"
      ]
     },
     "execution_count": 9,
     "metadata": {},
     "output_type": "execute_result"
    }
   ],
   "source": [
    "full_stats.groupby(\"tree_name\").size()"
   ]
  },
  {
   "cell_type": "code",
   "execution_count": 33,
   "metadata": {},
   "outputs": [
    {
     "data": {
      "text/html": [
       "<div>\n",
       "<style scoped>\n",
       "    .dataframe tbody tr th:only-of-type {\n",
       "        vertical-align: middle;\n",
       "    }\n",
       "\n",
       "    .dataframe tbody tr th {\n",
       "        vertical-align: top;\n",
       "    }\n",
       "\n",
       "    .dataframe thead th {\n",
       "        text-align: right;\n",
       "    }\n",
       "</style>\n",
       "<table border=\"1\" class=\"dataframe\">\n",
       "  <thead>\n",
       "    <tr style=\"text-align: right;\">\n",
       "      <th></th>\n",
       "      <th>tree_name</th>\n",
       "      <th>ITCs_total</th>\n",
       "      <th>Pixels_total</th>\n",
       "      <th>ITCs_train</th>\n",
       "      <th>Pixels_train</th>\n",
       "      <th>ITCs_test</th>\n",
       "      <th>Pixels_test</th>\n",
       "    </tr>\n",
       "  </thead>\n",
       "  <tbody>\n",
       "    <tr>\n",
       "      <th>0</th>\n",
       "      <td>Abiorana Rosa</td>\n",
       "      <td>72</td>\n",
       "      <td>16371007.0</td>\n",
       "      <td>50</td>\n",
       "      <td>11403267.0</td>\n",
       "      <td>22</td>\n",
       "      <td>4967740.0</td>\n",
       "    </tr>\n",
       "    <tr>\n",
       "      <th>1</th>\n",
       "      <td>Angico Angico</td>\n",
       "      <td>6</td>\n",
       "      <td>1114366.0</td>\n",
       "      <td>4</td>\n",
       "      <td>898505.0</td>\n",
       "      <td>2</td>\n",
       "      <td>215861.0</td>\n",
       "    </tr>\n",
       "    <tr>\n",
       "      <th>2</th>\n",
       "      <td>Angico Vermelho</td>\n",
       "      <td>14</td>\n",
       "      <td>3315461.0</td>\n",
       "      <td>9</td>\n",
       "      <td>1876514.0</td>\n",
       "      <td>5</td>\n",
       "      <td>1438947.0</td>\n",
       "    </tr>\n",
       "    <tr>\n",
       "      <th>3</th>\n",
       "      <td>Castanheira</td>\n",
       "      <td>83</td>\n",
       "      <td>15653626.0</td>\n",
       "      <td>58</td>\n",
       "      <td>10784298.0</td>\n",
       "      <td>25</td>\n",
       "      <td>4869328.0</td>\n",
       "    </tr>\n",
       "    <tr>\n",
       "      <th>4</th>\n",
       "      <td>Cedro Cedro</td>\n",
       "      <td>52</td>\n",
       "      <td>3906764.0</td>\n",
       "      <td>36</td>\n",
       "      <td>2535266.0</td>\n",
       "      <td>16</td>\n",
       "      <td>1371498.0</td>\n",
       "    </tr>\n",
       "    <tr>\n",
       "      <th>5</th>\n",
       "      <td>Cerejeira</td>\n",
       "      <td>14</td>\n",
       "      <td>952959.0</td>\n",
       "      <td>9</td>\n",
       "      <td>663557.0</td>\n",
       "      <td>5</td>\n",
       "      <td>289402.0</td>\n",
       "    </tr>\n",
       "    <tr>\n",
       "      <th>6</th>\n",
       "      <td>Cumaru Ferro</td>\n",
       "      <td>20</td>\n",
       "      <td>4459054.0</td>\n",
       "      <td>14</td>\n",
       "      <td>3200887.0</td>\n",
       "      <td>6</td>\n",
       "      <td>1258167.0</td>\n",
       "    </tr>\n",
       "    <tr>\n",
       "      <th>7</th>\n",
       "      <td>Garapeira</td>\n",
       "      <td>45</td>\n",
       "      <td>5210028.0</td>\n",
       "      <td>31</td>\n",
       "      <td>3256934.0</td>\n",
       "      <td>14</td>\n",
       "      <td>1953094.0</td>\n",
       "    </tr>\n",
       "    <tr>\n",
       "      <th>8</th>\n",
       "      <td>Guaribeiro</td>\n",
       "      <td>24</td>\n",
       "      <td>2014050.0</td>\n",
       "      <td>16</td>\n",
       "      <td>1485259.0</td>\n",
       "      <td>8</td>\n",
       "      <td>528791.0</td>\n",
       "    </tr>\n",
       "    <tr>\n",
       "      <th>9</th>\n",
       "      <td>Guariuba</td>\n",
       "      <td>18</td>\n",
       "      <td>1216249.0</td>\n",
       "      <td>12</td>\n",
       "      <td>801240.0</td>\n",
       "      <td>6</td>\n",
       "      <td>415009.0</td>\n",
       "    </tr>\n",
       "    <tr>\n",
       "      <th>10</th>\n",
       "      <td>Ipe</td>\n",
       "      <td>20</td>\n",
       "      <td>1060438.0</td>\n",
       "      <td>14</td>\n",
       "      <td>740158.0</td>\n",
       "      <td>6</td>\n",
       "      <td>320280.0</td>\n",
       "    </tr>\n",
       "    <tr>\n",
       "      <th>11</th>\n",
       "      <td>Jutai</td>\n",
       "      <td>32</td>\n",
       "      <td>3685441.0</td>\n",
       "      <td>22</td>\n",
       "      <td>2510941.0</td>\n",
       "      <td>10</td>\n",
       "      <td>1174500.0</td>\n",
       "    </tr>\n",
       "    <tr>\n",
       "      <th>12</th>\n",
       "      <td>Massaranduba</td>\n",
       "      <td>9</td>\n",
       "      <td>1125149.0</td>\n",
       "      <td>6</td>\n",
       "      <td>635285.0</td>\n",
       "      <td>3</td>\n",
       "      <td>489864.0</td>\n",
       "    </tr>\n",
       "    <tr>\n",
       "      <th>13</th>\n",
       "      <td>Samauma</td>\n",
       "      <td>11</td>\n",
       "      <td>4424217.0</td>\n",
       "      <td>7</td>\n",
       "      <td>2686550.0</td>\n",
       "      <td>4</td>\n",
       "      <td>1737667.0</td>\n",
       "    </tr>\n",
       "    <tr>\n",
       "      <th>14</th>\n",
       "      <td>Tachi</td>\n",
       "      <td>25</td>\n",
       "      <td>3352427.0</td>\n",
       "      <td>17</td>\n",
       "      <td>2454694.0</td>\n",
       "      <td>8</td>\n",
       "      <td>897733.0</td>\n",
       "    </tr>\n",
       "    <tr>\n",
       "      <th>15</th>\n",
       "      <td>Tauari</td>\n",
       "      <td>67</td>\n",
       "      <td>9967430.0</td>\n",
       "      <td>46</td>\n",
       "      <td>6807258.0</td>\n",
       "      <td>21</td>\n",
       "      <td>3160172.0</td>\n",
       "    </tr>\n",
       "    <tr>\n",
       "      <th>16</th>\n",
       "      <td>Ucuuba</td>\n",
       "      <td>6</td>\n",
       "      <td>410973.0</td>\n",
       "      <td>4</td>\n",
       "      <td>329641.0</td>\n",
       "      <td>2</td>\n",
       "      <td>81332.0</td>\n",
       "    </tr>\n",
       "  </tbody>\n",
       "</table>\n",
       "</div>"
      ],
      "text/plain": [
       "          tree_name  ITCs_total  Pixels_total  ITCs_train  Pixels_train  \\\n",
       "0     Abiorana Rosa          72    16371007.0          50    11403267.0   \n",
       "1     Angico Angico           6     1114366.0           4      898505.0   \n",
       "2   Angico Vermelho          14     3315461.0           9     1876514.0   \n",
       "3       Castanheira          83    15653626.0          58    10784298.0   \n",
       "4       Cedro Cedro          52     3906764.0          36     2535266.0   \n",
       "5         Cerejeira          14      952959.0           9      663557.0   \n",
       "6      Cumaru Ferro          20     4459054.0          14     3200887.0   \n",
       "7         Garapeira          45     5210028.0          31     3256934.0   \n",
       "8        Guaribeiro          24     2014050.0          16     1485259.0   \n",
       "9          Guariuba          18     1216249.0          12      801240.0   \n",
       "10              Ipe          20     1060438.0          14      740158.0   \n",
       "11            Jutai          32     3685441.0          22     2510941.0   \n",
       "12     Massaranduba           9     1125149.0           6      635285.0   \n",
       "13          Samauma          11     4424217.0           7     2686550.0   \n",
       "14            Tachi          25     3352427.0          17     2454694.0   \n",
       "15           Tauari          67     9967430.0          46     6807258.0   \n",
       "16           Ucuuba           6      410973.0           4      329641.0   \n",
       "\n",
       "    ITCs_test  Pixels_test  \n",
       "0          22    4967740.0  \n",
       "1           2     215861.0  \n",
       "2           5    1438947.0  \n",
       "3          25    4869328.0  \n",
       "4          16    1371498.0  \n",
       "5           5     289402.0  \n",
       "6           6    1258167.0  \n",
       "7          14    1953094.0  \n",
       "8           8     528791.0  \n",
       "9           6     415009.0  \n",
       "10          6     320280.0  \n",
       "11         10    1174500.0  \n",
       "12          3     489864.0  \n",
       "13          4    1737667.0  \n",
       "14          8     897733.0  \n",
       "15         21    3160172.0  \n",
       "16          2      81332.0  "
      ]
     },
     "execution_count": 33,
     "metadata": {},
     "output_type": "execute_result"
    }
   ],
   "source": [
    "# Create a table by tree_name with the number registers, sum area\n",
    "train_count = train_stats.groupby(\"tree_name\", as_index=False, ).agg(ITCs=(\"tree_type\", \"count\"), Pixels=(\"area\", \"sum\"))\n",
    "\n",
    "test_count = test_stats.groupby(\"tree_name\", as_index=False, ).agg(ITCs=(\"tree_type\", \"count\"), Pixels=(\"area\", \"sum\"))\n",
    "\n",
    "# join the two tables\n",
    "count = train_count.merge(test_count, on=\"tree_name\", suffixes=(\"_train\", \"_test\"), how=\"outer\")\n",
    "\n",
    "# add column ITCs_total as the second column\n",
    "count.insert(1, \"ITCs_total\", count[\"ITCs_train\"] + count[\"ITCs_test\"])\n",
    "count.insert(2, \"Pixels_total\", count[\"Pixels_train\"] + count[\"Pixels_test\"])\n",
    "# apply to Pixels columns\n",
    "# count[[\"Pixels_train\", \"Pixels_test\", \"Pixels_total\"]] = count[[\"Pixels_train\", \"Pixels_test\", \"Pixels_total\"]].map(lambda x: millify(x, precision=2))\n",
    "\n",
    "count"
   ]
  },
  {
   "cell_type": "code",
   "execution_count": 34,
   "metadata": {},
   "outputs": [
    {
     "data": {
      "text/plain": [
       "ITCs_total           518.0\n",
       "Pixels_total    78239639.0\n",
       "ITCs_train           355.0\n",
       "Pixels_train    53070254.0\n",
       "ITCs_test            163.0\n",
       "Pixels_test     25169385.0\n",
       "dtype: float64"
      ]
     },
     "execution_count": 34,
     "metadata": {},
     "output_type": "execute_result"
    }
   ],
   "source": [
    "# select numeric tables and sum them\n",
    "total = count.select_dtypes(include=np.number).sum()\n",
    "\n",
    "total"
   ]
  },
  {
   "cell_type": "code",
   "execution_count": 2,
   "metadata": {},
   "outputs": [
    {
     "data": {
      "text/plain": [
       "0.31467181467181465"
      ]
     },
     "execution_count": 2,
     "metadata": {},
     "output_type": "execute_result"
    }
   ],
   "source": [
    "163/518"
   ]
  },
  {
   "cell_type": "code",
   "execution_count": 40,
   "metadata": {},
   "outputs": [
    {
     "data": {
      "text/plain": [
       "'25.17M'"
      ]
     },
     "execution_count": 40,
     "metadata": {},
     "output_type": "execute_result"
    }
   ],
   "source": [
    "millify(25169385.0, precision=2)"
   ]
  },
  {
   "cell_type": "markdown",
   "metadata": {},
   "source": [
    "# Análise Quantitativa das Amostras"
   ]
  },
  {
   "cell_type": "code",
   "execution_count": 18,
   "metadata": {},
   "outputs": [
    {
     "data": {
      "text/plain": [
       "tree_name\n",
       "Castanheira        58\n",
       "Abiorana Rosa      50\n",
       "Tauari             46\n",
       "Cedro Cedro        36\n",
       "Garapeira          31\n",
       "Jutai              22\n",
       "Tachi              17\n",
       "Guaribeiro         16\n",
       "Ipe                14\n",
       "Cumaru Ferro       14\n",
       "Guariuba           12\n",
       "Cerejeira           9\n",
       "Angico Vermelho     9\n",
       "Samauma             7\n",
       "Massaranduba        6\n",
       "Angico Angico       4\n",
       "Ucuuba              4\n",
       "dtype: int64"
      ]
     },
     "execution_count": 18,
     "metadata": {},
     "output_type": "execute_result"
    }
   ],
   "source": [
    "train_stats.groupby([\"tree_name\"]).size().sort_values(ascending=False)"
   ]
  },
  {
   "cell_type": "code",
   "execution_count": null,
   "metadata": {},
   "outputs": [],
   "source": [
    "train_stats.groupby([\"tree_name\"])['area'].quantile(0.25).sort_values()"
   ]
  },
  {
   "cell_type": "code",
   "execution_count": null,
   "metadata": {},
   "outputs": [],
   "source": [
    "# plot the area distribution of each tree_name with boxplot\n",
    "ax = sns.boxplot(\n",
    "    train_stats,\n",
    "    x=\"area\",\n",
    "    y=\"tree_name\",\n",
    "    order=train_stats.groupby([\"tree_name\"])[\"area\"].median().sort_values(ascending=False).index,\n",
    ")\n",
    "\n",
    "\n",
    "plt.show()"
   ]
  },
  {
   "cell_type": "markdown",
   "metadata": {},
   "source": [
    "# Análise Qualitativa das Amostras"
   ]
  },
  {
   "cell_type": "code",
   "execution_count": null,
   "metadata": {},
   "outputs": [],
   "source": [
    "BOX_DIMENSION = 512\n",
    "\n",
    "for tree_type in id_tree.index:\n",
    "    # for each tree type plot 4 examples\n",
    "    tree_name = id_tree[tree_type]\n",
    "    label_tree = train_stats[train_stats[\"tree_type\"] == tree_type].index\n",
    "    \n",
    "    # get 4 random examples\n",
    "    np.random.seed(42)\n",
    "    examples = np.random.choice(label_tree, 4)\n",
    "    \n",
    "    centroids = train_stats.loc[examples, [\"centroid-0\", \"centroid-1\"]].values\n",
    "\n",
    "    fig, axs = plt.subplots(1, 4, figsize=(20, 5))\n",
    "    for i, ax in enumerate(axs):\n",
    "        centroid = centroids[i]\n",
    "        x, y = centroid\n",
    "        row_slice = slice(int(x)-BOX_DIMENSION//2, int(x)+BOX_DIMENSION//2)\n",
    "        col_slice = slice(int(y)-BOX_DIMENSION//2, int(y)+BOX_DIMENSION//2)\n",
    "        \n",
    "        ax.imshow(ORTHOIMAGE[row_slice, col_slice])\n",
    "        \n",
    "        for contour in find_contours(LABEL_GT_TRAIN[row_slice, col_slice]==tree_type):\n",
    "            ax.plot(contour[:, 1], contour[:, 0], color='red', linewidth=2)\n",
    "            \n",
    "        \n",
    "        ax.set_xticks([])\n",
    "        ax.set_yticks([])\n",
    "\n",
    "    fig.suptitle(tree_name, y=1.00)\n",
    "    fig.tight_layout()\n",
    "    fig.show()\n",
    "    \n",
    "    "
   ]
  },
  {
   "cell_type": "code",
   "execution_count": null,
   "metadata": {},
   "outputs": [],
   "source": []
  }
 ],
 "metadata": {
  "kernelspec": {
   "display_name": ".env",
   "language": "python",
   "name": "python3"
  },
  "language_info": {
   "codemirror_mode": {
    "name": "ipython",
    "version": 3
   },
   "file_extension": ".py",
   "mimetype": "text/x-python",
   "name": "python",
   "nbconvert_exporter": "python",
   "pygments_lexer": "ipython3",
   "version": "3.10.12"
  }
 },
 "nbformat": 4,
 "nbformat_minor": 2
}
