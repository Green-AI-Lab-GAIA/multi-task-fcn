{
 "cells": [
  {
   "cell_type": "code",
   "execution_count": 1,
   "metadata": {
    "collapsed": false
   },
   "outputs": [],
   "source": [
    "# For tips on running notebooks in Google Colab, see\n",
    "# https://pytorch.org/tutorials/beginner/colab\n",
    "%matplotlib inline"
   ]
  },
  {
   "cell_type": "markdown",
   "metadata": {},
   "source": [
    "Hyperparameter tuning with Ray Tune\n",
    "===================================\n",
    "\n",
    "Hyperparameter tuning can make the difference between an average model\n",
    "and a highly accurate one. Often simple things like choosing a different\n",
    "learning rate or changing a network layer size can have a dramatic\n",
    "impact on your model performance.\n",
    "\n",
    "Fortunately, there are tools that help with finding the best combination\n",
    "of parameters. [Ray Tune](https://docs.ray.io/en/latest/tune.html) is an\n",
    "industry standard tool for distributed hyperparameter tuning. Ray Tune\n",
    "includes the latest hyperparameter search algorithms, integrates with\n",
    "TensorBoard and other analysis libraries, and natively supports\n",
    "distributed training through [Ray\\'s distributed machine learning\n",
    "engine](https://ray.io/).\n",
    "\n",
    "In this tutorial, we will show you how to integrate Ray Tune into your\n",
    "PyTorch training workflow. We will extend [this tutorial from the\n",
    "PyTorch\n",
    "documentation](https://pytorch.org/tutorials/beginner/blitz/cifar10_tutorial.html)\n",
    "for training a CIFAR10 image classifier.\n",
    "\n",
    "As you will see, we only need to add some slight modifications. In\n",
    "particular, we need to\n",
    "\n",
    "1.  wrap data loading and training in functions,\n",
    "2.  make some network parameters configurable,\n",
    "3.  add checkpointing (optional),\n",
    "4.  and define the search space for the model tuning\n",
    "\n",
    "| \n",
    "\n",
    "To run this tutorial, please make sure the following packages are\n",
    "installed:\n",
    "\n",
    "-   `ray[tune]`: Distributed hyperparameter tuning library\n",
    "-   `torchvision`: For the data transformers\n",
    "\n",
    "Setup / Imports\n",
    "---------------\n",
    "\n",
    "Let\\'s start with the imports:\n"
   ]
  },
  {
   "cell_type": "code",
   "execution_count": 2,
   "metadata": {
    "collapsed": false
   },
   "outputs": [],
   "source": [
    "from functools import partial\n",
    "import os\n",
    "import tempfile\n",
    "from pathlib import Path\n",
    "import torch\n",
    "import torch.nn as nn\n",
    "import torch.nn.functional as F\n",
    "import torch.optim as optim\n",
    "from torch.utils.data import random_split\n",
    "import torchvision\n",
    "import torchvision.transforms as transforms\n",
    "from ray import tune\n",
    "from ray import train\n",
    "from ray.train import Checkpoint, get_checkpoint\n",
    "from ray.tune.schedulers import ASHAScheduler\n",
    "import ray.cloudpickle as pickle"
   ]
  },
  {
   "cell_type": "markdown",
   "metadata": {},
   "source": [
    "Most of the imports are needed for building the PyTorch model. Only the\n",
    "last imports are for Ray Tune.\n",
    "\n",
    "Data loaders\n",
    "============\n",
    "\n",
    "We wrap the data loaders in their own function and pass a global data\n",
    "directory. This way we can share a data directory between different\n",
    "trials.\n"
   ]
  },
  {
   "cell_type": "code",
   "execution_count": 3,
   "metadata": {
    "collapsed": false
   },
   "outputs": [],
   "source": [
    "def load_data(data_dir=\"./data\"):\n",
    "    transform = transforms.Compose(\n",
    "        [transforms.ToTensor(), transforms.Normalize((0.5, 0.5, 0.5), (0.5, 0.5, 0.5))]\n",
    "    )\n",
    "\n",
    "    trainset = torchvision.datasets.CIFAR10(\n",
    "        root=data_dir, train=True, download=True, transform=transform\n",
    "    )\n",
    "\n",
    "    testset = torchvision.datasets.CIFAR10(\n",
    "        root=data_dir, train=False, download=True, transform=transform\n",
    "    )\n",
    "\n",
    "    return trainset, testset"
   ]
  },
  {
   "cell_type": "markdown",
   "metadata": {},
   "source": [
    "Configurable neural network\n",
    "===========================\n",
    "\n",
    "We can only tune those parameters that are configurable. In this\n",
    "example, we can specify the layer sizes of the fully connected layers:\n"
   ]
  },
  {
   "cell_type": "code",
   "execution_count": 4,
   "metadata": {
    "collapsed": false
   },
   "outputs": [],
   "source": [
    "class Net(nn.Module):\n",
    "    def __init__(self, l1=120, l2=84):\n",
    "        super(Net, self).__init__()\n",
    "        self.conv1 = nn.Conv2d(3, 6, 5)\n",
    "        self.pool = nn.MaxPool2d(2, 2)\n",
    "        self.conv2 = nn.Conv2d(6, 16, 5)\n",
    "        self.fc1 = nn.Linear(16 * 5 * 5, l1)\n",
    "        self.fc2 = nn.Linear(l1, l2)\n",
    "        self.fc3 = nn.Linear(l2, 10)\n",
    "\n",
    "    def forward(self, x):\n",
    "        x = self.pool(F.relu(self.conv1(x)))\n",
    "        x = self.pool(F.relu(self.conv2(x)))\n",
    "        x = torch.flatten(x, 1)  # flatten all dimensions except batch\n",
    "        x = F.relu(self.fc1(x))\n",
    "        x = F.relu(self.fc2(x))\n",
    "        x = self.fc3(x)\n",
    "        return x"
   ]
  },
  {
   "cell_type": "markdown",
   "metadata": {},
   "source": [
    "The train function\n",
    "==================\n",
    "\n",
    "Now it gets interesting, because we introduce some changes to the\n",
    "example [from the PyTorch\n",
    "documentation](https://pytorch.org/tutorials/beginner/blitz/cifar10_tutorial.html).\n",
    "\n",
    "We wrap the training script in a function\n",
    "`train_cifar(config, data_dir=None)`. The `config` parameter will\n",
    "receive the hyperparameters we would like to train with. The `data_dir`\n",
    "specifies the directory where we load and store the data, so that\n",
    "multiple runs can share the same data source. We also load the model and\n",
    "optimizer state at the start of the run, if a checkpoint is provided.\n",
    "Further down in this tutorial you will find information on how to save\n",
    "the checkpoint and what it is used for.\n",
    "\n",
    "``` {.sourceCode .python}\n",
    "net = Net(config[\"l1\"], config[\"l2\"])\n",
    "\n",
    "checkpoint = get_checkpoint()\n",
    "if checkpoint:\n",
    "    with checkpoint.as_directory() as checkpoint_dir:\n",
    "        data_path = Path(checkpoint_dir) / \"data.pkl\"\n",
    "        with open(data_path, \"rb\") as fp:\n",
    "            checkpoint_state = pickle.load(fp)\n",
    "        start_epoch = checkpoint_state[\"epoch\"]\n",
    "        net.load_state_dict(checkpoint_state[\"net_state_dict\"])\n",
    "        optimizer.load_state_dict(checkpoint_state[\"optimizer_state_dict\"])\n",
    "else:\n",
    "    start_epoch = 0\n",
    "```\n",
    "\n",
    "The learning rate of the optimizer is made configurable, too:\n",
    "\n",
    "``` {.sourceCode .python}\n",
    "optimizer = optim.SGD(net.parameters(), lr=config[\"lr\"], momentum=0.9)\n",
    "```\n",
    "\n",
    "We also split the training data into a training and validation subset.\n",
    "We thus train on 80% of the data and calculate the validation loss on\n",
    "the remaining 20%. The batch sizes with which we iterate through the\n",
    "training and test sets are configurable as well.\n",
    "\n",
    "Adding (multi) GPU support with DataParallel\n",
    "--------------------------------------------\n",
    "\n",
    "Image classification benefits largely from GPUs. Luckily, we can\n",
    "continue to use PyTorch\\'s abstractions in Ray Tune. Thus, we can wrap\n",
    "our model in `nn.DataParallel` to support data parallel training on\n",
    "multiple GPUs:\n",
    "\n",
    "``` {.sourceCode .python}\n",
    "device = \"cpu\"\n",
    "if torch.cuda.is_available():\n",
    "    device = \"cuda:0\"\n",
    "    if torch.cuda.device_count() > 1:\n",
    "        net = nn.DataParallel(net)\n",
    "net.to(device)\n",
    "```\n",
    "\n",
    "By using a `device` variable we make sure that training also works when\n",
    "we have no GPUs available. PyTorch requires us to send our data to the\n",
    "GPU memory explicitly, like this:\n",
    "\n",
    "``` {.sourceCode .python}\n",
    "for i, data in enumerate(trainloader, 0):\n",
    "    inputs, labels = data\n",
    "    inputs, labels = inputs.to(device), labels.to(device)\n",
    "```\n",
    "\n",
    "The code now supports training on CPUs, on a single GPU, and on multiple\n",
    "GPUs. Notably, Ray also supports [fractional\n",
    "GPUs](https://docs.ray.io/en/master/using-ray-with-gpus.html#fractional-gpus)\n",
    "so we can share GPUs among trials, as long as the model still fits on\n",
    "the GPU memory. We\\'ll come back to that later.\n",
    "\n",
    "Communicating with Ray Tune\n",
    "---------------------------\n",
    "\n",
    "The most interesting part is the communication with Ray Tune:\n",
    "\n",
    "``` {.sourceCode .python}\n",
    "checkpoint_data = {\n",
    "    \"epoch\": epoch,\n",
    "    \"net_state_dict\": net.state_dict(),\n",
    "    \"optimizer_state_dict\": optimizer.state_dict(),\n",
    "}\n",
    "with tempfile.TemporaryDirectory() as checkpoint_dir:\n",
    "    data_path = Path(checkpoint_dir) / \"data.pkl\"\n",
    "    with open(data_path, \"wb\") as fp:\n",
    "        pickle.dump(checkpoint_data, fp)\n",
    "\n",
    "    checkpoint = Checkpoint.from_directory(checkpoint_dir)\n",
    "    train.report(\n",
    "        {\"loss\": val_loss / val_steps, \"accuracy\": correct / total},\n",
    "        checkpoint=checkpoint,\n",
    "    )\n",
    "```\n",
    "\n",
    "Here we first save a checkpoint and then report some metrics back to Ray\n",
    "Tune. Specifically, we send the validation loss and accuracy back to Ray\n",
    "Tune. Ray Tune can then use these metrics to decide which hyperparameter\n",
    "configuration lead to the best results. These metrics can also be used\n",
    "to stop bad performing trials early in order to avoid wasting resources\n",
    "on those trials.\n",
    "\n",
    "The checkpoint saving is optional, however, it is necessary if we wanted\n",
    "to use advanced schedulers like [Population Based\n",
    "Training](https://docs.ray.io/en/latest/tune/examples/pbt_guide.html).\n",
    "Also, by saving the checkpoint we can later load the trained models and\n",
    "validate them on a test set. Lastly, saving checkpoints is useful for\n",
    "fault tolerance, and it allows us to interrupt training and continue\n",
    "training later.\n",
    "\n",
    "Full training function\n",
    "----------------------\n",
    "\n",
    "The full code example looks like this:\n"
   ]
  },
  {
   "cell_type": "code",
   "execution_count": 5,
   "metadata": {
    "collapsed": false
   },
   "outputs": [],
   "source": [
    "def train_cifar(config, data_dir=None):\n",
    "    net = Net(config[\"l1\"], config[\"l2\"])\n",
    "\n",
    "    device = \"cpu\"\n",
    "    if torch.cuda.is_available():\n",
    "        device = \"cuda:0\"\n",
    "        if torch.cuda.device_count() > 1:\n",
    "            net = nn.DataParallel(net)\n",
    "    net.to(device)\n",
    "\n",
    "    criterion = nn.CrossEntropyLoss()\n",
    "    optimizer = optim.SGD(net.parameters(), lr=config[\"lr\"], momentum=0.9)\n",
    "\n",
    "    checkpoint = get_checkpoint()\n",
    "    if checkpoint:\n",
    "        with checkpoint.as_directory() as checkpoint_dir:\n",
    "            data_path = Path(checkpoint_dir) / \"data.pkl\"\n",
    "            with open(data_path, \"rb\") as fp:\n",
    "                checkpoint_state = pickle.load(fp)\n",
    "            start_epoch = checkpoint_state[\"epoch\"]\n",
    "            net.load_state_dict(checkpoint_state[\"net_state_dict\"])\n",
    "            optimizer.load_state_dict(checkpoint_state[\"optimizer_state_dict\"])\n",
    "    else:\n",
    "        start_epoch = 0\n",
    "\n",
    "    trainset, testset = load_data(data_dir)\n",
    "\n",
    "    test_abs = int(len(trainset) * 0.8)\n",
    "    train_subset, val_subset = random_split(\n",
    "        trainset, [test_abs, len(trainset) - test_abs]\n",
    "    )\n",
    "\n",
    "    trainloader = torch.utils.data.DataLoader(\n",
    "        train_subset, batch_size=int(config[\"batch_size\"]), shuffle=True, num_workers=8\n",
    "    )\n",
    "    valloader = torch.utils.data.DataLoader(\n",
    "        val_subset, batch_size=int(config[\"batch_size\"]), shuffle=True, num_workers=8\n",
    "    )\n",
    "\n",
    "    for epoch in range(start_epoch, 10):  # loop over the dataset multiple times\n",
    "        running_loss = 0.0\n",
    "        epoch_steps = 0\n",
    "        for i, data in enumerate(trainloader, 0):\n",
    "            # get the inputs; data is a list of [inputs, labels]\n",
    "            inputs, labels = data\n",
    "            inputs, labels = inputs.to(device), labels.to(device)\n",
    "\n",
    "            # zero the parameter gradients\n",
    "            optimizer.zero_grad()\n",
    "\n",
    "            # forward + backward + optimize\n",
    "            outputs = net(inputs)\n",
    "            loss = criterion(outputs, labels)\n",
    "            loss.backward()\n",
    "            optimizer.step()\n",
    "\n",
    "            # print statistics\n",
    "            running_loss += loss.item()\n",
    "            epoch_steps += 1\n",
    "            if i % 2000 == 1999:  # print every 2000 mini-batches\n",
    "                print(\n",
    "                    \"[%d, %5d] loss: %.3f\"\n",
    "                    % (epoch + 1, i + 1, running_loss / epoch_steps)\n",
    "                )\n",
    "                running_loss = 0.0\n",
    "\n",
    "        # Validation loss\n",
    "        val_loss = 0.0\n",
    "        val_steps = 0\n",
    "        total = 0\n",
    "        correct = 0\n",
    "        for i, data in enumerate(valloader, 0):\n",
    "            with torch.no_grad():\n",
    "                inputs, labels = data\n",
    "                inputs, labels = inputs.to(device), labels.to(device)\n",
    "\n",
    "                outputs = net(inputs)\n",
    "                _, predicted = torch.max(outputs.data, 1)\n",
    "                total += labels.size(0)\n",
    "                correct += (predicted == labels).sum().item()\n",
    "\n",
    "                loss = criterion(outputs, labels)\n",
    "                val_loss += loss.cpu().numpy()\n",
    "                val_steps += 1\n",
    "\n",
    "        checkpoint_data = {\n",
    "            \"epoch\": epoch,\n",
    "            \"net_state_dict\": net.state_dict(),\n",
    "            \"optimizer_state_dict\": optimizer.state_dict(),\n",
    "        }\n",
    "        with tempfile.TemporaryDirectory() as checkpoint_dir:\n",
    "            data_path = Path(checkpoint_dir) / \"data.pkl\"\n",
    "            with open(data_path, \"wb\") as fp:\n",
    "                pickle.dump(checkpoint_data, fp)\n",
    "\n",
    "            checkpoint = Checkpoint.from_directory(checkpoint_dir)\n",
    "            train.report(\n",
    "                {\"loss\": val_loss / val_steps, \"accuracy\": correct / total},\n",
    "                checkpoint=checkpoint,\n",
    "            )\n",
    "    \n",
    "    print(\"Finished Training\")"
   ]
  },
  {
   "cell_type": "markdown",
   "metadata": {},
   "source": [
    "As you can see, most of the code is adapted directly from the original\n",
    "example.\n",
    "\n",
    "Test set accuracy\n",
    "=================\n",
    "\n",
    "Commonly the performance of a machine learning model is tested on a\n",
    "hold-out test set with data that has not been used for training the\n",
    "model. We also wrap this in a function:\n"
   ]
  },
  {
   "cell_type": "code",
   "execution_count": 6,
   "metadata": {
    "collapsed": false
   },
   "outputs": [],
   "source": [
    "def test_accuracy(net, device=\"cpu\"):\n",
    "    trainset, testset = load_data()\n",
    "\n",
    "    testloader = torch.utils.data.DataLoader(\n",
    "        testset, batch_size=4, shuffle=False, num_workers=2\n",
    "    )\n",
    "\n",
    "    correct = 0\n",
    "    total = 0\n",
    "    with torch.no_grad():\n",
    "        for data in testloader:\n",
    "            images, labels = data\n",
    "            images, labels = images.to(device), labels.to(device)\n",
    "            outputs = net(images)\n",
    "            _, predicted = torch.max(outputs.data, 1)\n",
    "            total += labels.size(0)\n",
    "            correct += (predicted == labels).sum().item()\n",
    "\n",
    "    return correct / total"
   ]
  },
  {
   "cell_type": "markdown",
   "metadata": {},
   "source": [
    "The function also expects a `device` parameter, so we can do the test\n",
    "set validation on a GPU.\n",
    "\n",
    "Configuring the search space\n",
    "============================\n",
    "\n",
    "Lastly, we need to define Ray Tune\\'s search space. Here is an example:\n",
    "\n",
    "``` {.sourceCode .python}\n",
    "config = {\n",
    "    \"l1\": tune.choice([2 ** i for i in range(9)]),\n",
    "    \"l2\": tune.choice([2 ** i for i in range(9)]),\n",
    "    \"lr\": tune.loguniform(1e-4, 1e-1),\n",
    "    \"batch_size\": tune.choice([2, 4, 8, 16])\n",
    "}\n",
    "```\n",
    "\n",
    "The `tune.choice()` accepts a list of values that are uniformly sampled\n",
    "from. In this example, the `l1` and `l2` parameters should be powers of\n",
    "2 between 4 and 256, so either 4, 8, 16, 32, 64, 128, or 256. The `lr`\n",
    "(learning rate) should be uniformly sampled between 0.0001 and 0.1.\n",
    "Lastly, the batch size is a choice between 2, 4, 8, and 16.\n",
    "\n",
    "At each trial, Ray Tune will now randomly sample a combination of\n",
    "parameters from these search spaces. It will then train a number of\n",
    "models in parallel and find the best performing one among these. We also\n",
    "use the `ASHAScheduler` which will terminate bad performing trials\n",
    "early.\n",
    "\n",
    "We wrap the `train_cifar` function with `functools.partial` to set the\n",
    "constant `data_dir` parameter. We can also tell Ray Tune what resources\n",
    "should be available for each trial:\n",
    "\n",
    "``` {.sourceCode .python}\n",
    "gpus_per_trial = 2\n",
    "# ...\n",
    "result = tune.run(\n",
    "    partial(train_cifar, data_dir=data_dir),\n",
    "    resources_per_trial={\"cpu\": 8, \"gpu\": gpus_per_trial},\n",
    "    config=config,\n",
    "    num_samples=num_samples,\n",
    "    scheduler=scheduler,\n",
    "    checkpoint_at_end=True)\n",
    "```\n",
    "\n",
    "You can specify the number of CPUs, which are then available e.g. to\n",
    "increase the `num_workers` of the PyTorch `DataLoader` instances. The\n",
    "selected number of GPUs are made visible to PyTorch in each trial.\n",
    "Trials do not have access to GPUs that haven\\'t been requested for them\n",
    "- so you don\\'t have to care about two trials using the same set of\n",
    "resources.\n",
    "\n",
    "Here we can also specify fractional GPUs, so something like\n",
    "`gpus_per_trial=0.5` is completely valid. The trials will then share\n",
    "GPUs among each other. You just have to make sure that the models still\n",
    "fit in the GPU memory.\n",
    "\n",
    "After training the models, we will find the best performing one and load\n",
    "the trained network from the checkpoint file. We then obtain the test\n",
    "set accuracy and report everything by printing.\n",
    "\n",
    "The full main function looks like this:\n"
   ]
  },
  {
   "cell_type": "code",
   "execution_count": 7,
   "metadata": {
    "collapsed": false
   },
   "outputs": [
    {
     "name": "stdout",
     "output_type": "stream",
     "text": [
      "Files already downloaded and verified\n",
      "Files already downloaded and verified\n"
     ]
    },
    {
     "name": "stderr",
     "output_type": "stream",
     "text": [
      "2024-06-05 17:10:01,496\tINFO worker.py:1749 -- Started a local Ray instance.\n",
      "2024-06-05 17:10:02,616\tINFO tune.py:253 -- Initializing Ray automatically. For cluster usage or custom Ray initialization, call `ray.init(...)` before `tune.run(...)`.\n",
      "2024-06-05 17:10:02,620\tINFO tune.py:614 -- [output] This uses the legacy output and progress reporter, as Jupyter notebooks are not supported by the new engine, yet. For more information, please see https://github.com/ray-project/ray/issues/36949\n"
     ]
    },
    {
     "data": {
      "text/html": [
       "<div class=\"tuneStatus\">\n",
       "  <div style=\"display: flex;flex-direction: row\">\n",
       "    <div style=\"display: flex;flex-direction: column;\">\n",
       "      <h3>Tune Status</h3>\n",
       "      <table>\n",
       "<tbody>\n",
       "<tr><td>Current time:</td><td>2024-06-05 17:15:32</td></tr>\n",
       "<tr><td>Running for: </td><td>00:05:30.28        </td></tr>\n",
       "<tr><td>Memory:      </td><td>13.8/1007.5 GiB    </td></tr>\n",
       "</tbody>\n",
       "</table>\n",
       "    </div>\n",
       "    <div class=\"vDivider\"></div>\n",
       "    <div class=\"systemInfo\">\n",
       "      <h3>System Info</h3>\n",
       "      Using AsyncHyperBand: num_stopped=10<br>Bracket: Iter 8.000: -1.4159872280284762 | Iter 4.000: -1.5975320708841085 | Iter 2.000: -1.729179131603241 | Iter 1.000: -2.2395645711421963<br>Logical resource usage: 2.0/112 CPUs, 0/1 GPUs (0.0/1.0 accelerator_type:V100)\n",
       "    </div>\n",
       "    \n",
       "  </div>\n",
       "  <div class=\"hDivider\"></div>\n",
       "  <div class=\"trialStatus\">\n",
       "    <h3>Trial Status</h3>\n",
       "    <table>\n",
       "<thead>\n",
       "<tr><th>Trial name             </th><th>status    </th><th>loc                </th><th style=\"text-align: right;\">  batch_size</th><th style=\"text-align: right;\">  l1</th><th style=\"text-align: right;\">  l2</th><th style=\"text-align: right;\">         lr</th><th style=\"text-align: right;\">  iter</th><th style=\"text-align: right;\">  total time (s)</th><th style=\"text-align: right;\">   loss</th><th style=\"text-align: right;\">  accuracy</th></tr>\n",
       "</thead>\n",
       "<tbody>\n",
       "<tr><td>train_cifar_97c9d_00000</td><td>TERMINATED</td><td>10.61.48.130:227850</td><td style=\"text-align: right;\">           4</td><td style=\"text-align: right;\">   8</td><td style=\"text-align: right;\">   1</td><td style=\"text-align: right;\">0.00164173 </td><td style=\"text-align: right;\">     2</td><td style=\"text-align: right;\">         93.4697</td><td style=\"text-align: right;\">1.89251</td><td style=\"text-align: right;\">    0.2052</td></tr>\n",
       "<tr><td>train_cifar_97c9d_00001</td><td>TERMINATED</td><td>10.61.48.130:227851</td><td style=\"text-align: right;\">           4</td><td style=\"text-align: right;\">   4</td><td style=\"text-align: right;\">  64</td><td style=\"text-align: right;\">0.0702803  </td><td style=\"text-align: right;\">     1</td><td style=\"text-align: right;\">         47.333 </td><td style=\"text-align: right;\">2.33847</td><td style=\"text-align: right;\">    0.1011</td></tr>\n",
       "<tr><td>train_cifar_97c9d_00002</td><td>TERMINATED</td><td>10.61.48.130:227890</td><td style=\"text-align: right;\">           2</td><td style=\"text-align: right;\">   1</td><td style=\"text-align: right;\">   4</td><td style=\"text-align: right;\">0.00012296 </td><td style=\"text-align: right;\">     1</td><td style=\"text-align: right;\">         87.4257</td><td style=\"text-align: right;\">2.30294</td><td style=\"text-align: right;\">    0.0985</td></tr>\n",
       "<tr><td>train_cifar_97c9d_00003</td><td>TERMINATED</td><td>10.61.48.130:227893</td><td style=\"text-align: right;\">           4</td><td style=\"text-align: right;\">   2</td><td style=\"text-align: right;\">  32</td><td style=\"text-align: right;\">0.000157688</td><td style=\"text-align: right;\">     1</td><td style=\"text-align: right;\">         49.0375</td><td style=\"text-align: right;\">2.19483</td><td style=\"text-align: right;\">    0.1588</td></tr>\n",
       "<tr><td>train_cifar_97c9d_00004</td><td>TERMINATED</td><td>10.61.48.130:227891</td><td style=\"text-align: right;\">          16</td><td style=\"text-align: right;\">   1</td><td style=\"text-align: right;\">  64</td><td style=\"text-align: right;\">0.000105139</td><td style=\"text-align: right;\">     1</td><td style=\"text-align: right;\">         18.4563</td><td style=\"text-align: right;\">2.29062</td><td style=\"text-align: right;\">    0.134 </td></tr>\n",
       "<tr><td>train_cifar_97c9d_00005</td><td>TERMINATED</td><td>10.61.48.130:227892</td><td style=\"text-align: right;\">          16</td><td style=\"text-align: right;\"> 128</td><td style=\"text-align: right;\">   8</td><td style=\"text-align: right;\">0.0501916  </td><td style=\"text-align: right;\">     1</td><td style=\"text-align: right;\">         18.7618</td><td style=\"text-align: right;\">2.30723</td><td style=\"text-align: right;\">    0.0977</td></tr>\n",
       "<tr><td>train_cifar_97c9d_00006</td><td>TERMINATED</td><td>10.61.48.130:227894</td><td style=\"text-align: right;\">           4</td><td style=\"text-align: right;\">  64</td><td style=\"text-align: right;\">   8</td><td style=\"text-align: right;\">0.00269938 </td><td style=\"text-align: right;\">     8</td><td style=\"text-align: right;\">        326.131 </td><td style=\"text-align: right;\">1.41599</td><td style=\"text-align: right;\">    0.5176</td></tr>\n",
       "<tr><td>train_cifar_97c9d_00007</td><td>TERMINATED</td><td>10.61.48.130:227895</td><td style=\"text-align: right;\">          16</td><td style=\"text-align: right;\">   8</td><td style=\"text-align: right;\">  64</td><td style=\"text-align: right;\">0.000248546</td><td style=\"text-align: right;\">    10</td><td style=\"text-align: right;\">        150.19  </td><td style=\"text-align: right;\">1.42622</td><td style=\"text-align: right;\">    0.4821</td></tr>\n",
       "<tr><td>train_cifar_97c9d_00008</td><td>TERMINATED</td><td>10.61.48.130:227896</td><td style=\"text-align: right;\">          16</td><td style=\"text-align: right;\">  16</td><td style=\"text-align: right;\"> 256</td><td style=\"text-align: right;\">0.0072942  </td><td style=\"text-align: right;\">    10</td><td style=\"text-align: right;\">        152.722 </td><td style=\"text-align: right;\">1.30257</td><td style=\"text-align: right;\">    0.5535</td></tr>\n",
       "<tr><td>train_cifar_97c9d_00009</td><td>TERMINATED</td><td>10.61.48.130:227897</td><td style=\"text-align: right;\">           8</td><td style=\"text-align: right;\">  64</td><td style=\"text-align: right;\">   4</td><td style=\"text-align: right;\">0.0103168  </td><td style=\"text-align: right;\">     4</td><td style=\"text-align: right;\">        100.496 </td><td style=\"text-align: right;\">1.69042</td><td style=\"text-align: right;\">    0.3863</td></tr>\n",
       "</tbody>\n",
       "</table>\n",
       "  </div>\n",
       "</div>\n",
       "<style>\n",
       ".tuneStatus {\n",
       "  color: var(--jp-ui-font-color1);\n",
       "}\n",
       ".tuneStatus .systemInfo {\n",
       "  display: flex;\n",
       "  flex-direction: column;\n",
       "}\n",
       ".tuneStatus td {\n",
       "  white-space: nowrap;\n",
       "}\n",
       ".tuneStatus .trialStatus {\n",
       "  display: flex;\n",
       "  flex-direction: column;\n",
       "}\n",
       ".tuneStatus h3 {\n",
       "  font-weight: bold;\n",
       "}\n",
       ".tuneStatus .hDivider {\n",
       "  border-bottom-width: var(--jp-border-width);\n",
       "  border-bottom-color: var(--jp-border-color0);\n",
       "  border-bottom-style: solid;\n",
       "}\n",
       ".tuneStatus .vDivider {\n",
       "  border-left-width: var(--jp-border-width);\n",
       "  border-left-color: var(--jp-border-color0);\n",
       "  border-left-style: solid;\n",
       "  margin: 0.5em 1em 0.5em 1em;\n",
       "}\n",
       "</style>\n"
      ],
      "text/plain": [
       "<IPython.core.display.HTML object>"
      ]
     },
     "metadata": {},
     "output_type": "display_data"
    },
    {
     "name": "stdout",
     "output_type": "stream",
     "text": [
      "\u001b[36m(func pid=227895)\u001b[0m Files already downloaded and verified\n",
      "\u001b[36m(func pid=227851)\u001b[0m [1,  2000] loss: 2.344\n",
      "\u001b[36m(func pid=227894)\u001b[0m Files already downloaded and verified\u001b[32m [repeated 19x across cluster] (Ray deduplicates logs by default. Set RAY_DEDUP_LOGS=0 to disable log deduplication, or see https://docs.ray.io/en/master/ray-observability/user-guides/configure-logging.html#log-deduplication for more options.)\u001b[0m\n"
     ]
    },
    {
     "data": {
      "text/html": [
       "<div class=\"trialProgress\">\n",
       "  <h3>Trial Progress</h3>\n",
       "  <table>\n",
       "<thead>\n",
       "<tr><th>Trial name             </th><th style=\"text-align: right;\">  accuracy</th><th style=\"text-align: right;\">   loss</th><th>should_checkpoint  </th></tr>\n",
       "</thead>\n",
       "<tbody>\n",
       "<tr><td>train_cifar_97c9d_00000</td><td style=\"text-align: right;\">    0.2052</td><td style=\"text-align: right;\">1.89251</td><td>True               </td></tr>\n",
       "<tr><td>train_cifar_97c9d_00001</td><td style=\"text-align: right;\">    0.1011</td><td style=\"text-align: right;\">2.33847</td><td>True               </td></tr>\n",
       "<tr><td>train_cifar_97c9d_00002</td><td style=\"text-align: right;\">    0.0985</td><td style=\"text-align: right;\">2.30294</td><td>True               </td></tr>\n",
       "<tr><td>train_cifar_97c9d_00003</td><td style=\"text-align: right;\">    0.1588</td><td style=\"text-align: right;\">2.19483</td><td>True               </td></tr>\n",
       "<tr><td>train_cifar_97c9d_00004</td><td style=\"text-align: right;\">    0.134 </td><td style=\"text-align: right;\">2.29062</td><td>True               </td></tr>\n",
       "<tr><td>train_cifar_97c9d_00005</td><td style=\"text-align: right;\">    0.0977</td><td style=\"text-align: right;\">2.30723</td><td>True               </td></tr>\n",
       "<tr><td>train_cifar_97c9d_00006</td><td style=\"text-align: right;\">    0.5176</td><td style=\"text-align: right;\">1.41599</td><td>True               </td></tr>\n",
       "<tr><td>train_cifar_97c9d_00007</td><td style=\"text-align: right;\">    0.4821</td><td style=\"text-align: right;\">1.42622</td><td>True               </td></tr>\n",
       "<tr><td>train_cifar_97c9d_00008</td><td style=\"text-align: right;\">    0.5535</td><td style=\"text-align: right;\">1.30257</td><td>True               </td></tr>\n",
       "<tr><td>train_cifar_97c9d_00009</td><td style=\"text-align: right;\">    0.3863</td><td style=\"text-align: right;\">1.69042</td><td>True               </td></tr>\n",
       "</tbody>\n",
       "</table>\n",
       "</div>\n",
       "<style>\n",
       ".trialProgress {\n",
       "  display: flex;\n",
       "  flex-direction: column;\n",
       "  color: var(--jp-ui-font-color1);\n",
       "}\n",
       ".trialProgress h3 {\n",
       "  font-weight: bold;\n",
       "}\n",
       ".trialProgress td {\n",
       "  white-space: nowrap;\n",
       "}\n",
       "</style>\n"
      ],
      "text/plain": [
       "<IPython.core.display.HTML object>"
      ]
     },
     "metadata": {},
     "output_type": "display_data"
    },
    {
     "name": "stderr",
     "output_type": "stream",
     "text": [
      "\u001b[36m(func pid=227895)\u001b[0m Checkpoint successfully created at: Checkpoint(filesystem=local, path=/home/luiz.luz/ray_results/train_cifar_2024-06-05_17-10-02/train_cifar_97c9d_00007_7_batch_size=16,l1=8,l2=64,lr=0.0002_2024-06-05_17-10-02/checkpoint_000000)\n"
     ]
    },
    {
     "name": "stdout",
     "output_type": "stream",
     "text": [
      "\u001b[36m(func pid=227851)\u001b[0m [1,  4000] loss: 1.170\u001b[32m [repeated 10x across cluster]\u001b[0m\n",
      "\u001b[36m(func pid=227890)\u001b[0m [1,  6000] loss: 0.771\u001b[32m [repeated 6x across cluster]\u001b[0m\n"
     ]
    },
    {
     "name": "stderr",
     "output_type": "stream",
     "text": [
      "\u001b[36m(func pid=227897)\u001b[0m Checkpoint successfully created at: Checkpoint(filesystem=local, path=/home/luiz.luz/ray_results/train_cifar_2024-06-05_17-10-02/train_cifar_97c9d_00009_9_batch_size=8,l1=64,l2=4,lr=0.0103_2024-06-05_17-10-02/checkpoint_000000)\u001b[32m [repeated 4x across cluster]\u001b[0m\n",
      "\u001b[36m(func pid=227895)\u001b[0m Checkpoint successfully created at: Checkpoint(filesystem=local, path=/home/luiz.luz/ray_results/train_cifar_2024-06-05_17-10-02/train_cifar_97c9d_00007_7_batch_size=16,l1=8,l2=64,lr=0.0002_2024-06-05_17-10-02/checkpoint_000001)\n"
     ]
    },
    {
     "name": "stdout",
     "output_type": "stream",
     "text": [
      "\u001b[36m(func pid=227890)\u001b[0m [1,  8000] loss: 0.578\u001b[32m [repeated 7x across cluster]\u001b[0m\n"
     ]
    },
    {
     "name": "stderr",
     "output_type": "stream",
     "text": [
      "\u001b[36m(func pid=227896)\u001b[0m Checkpoint successfully created at: Checkpoint(filesystem=local, path=/home/luiz.luz/ray_results/train_cifar_2024-06-05_17-10-02/train_cifar_97c9d_00008_8_batch_size=16,l1=16,l2=256,lr=0.0073_2024-06-05_17-10-02/checkpoint_000001)\n"
     ]
    },
    {
     "name": "stdout",
     "output_type": "stream",
     "text": [
      "\u001b[36m(func pid=227890)\u001b[0m [1, 10000] loss: 0.461\u001b[32m [repeated 6x across cluster]\u001b[0m\n"
     ]
    },
    {
     "name": "stderr",
     "output_type": "stream",
     "text": [
      "\u001b[36m(func pid=227851)\u001b[0m Checkpoint successfully created at: Checkpoint(filesystem=local, path=/home/luiz.luz/ray_results/train_cifar_2024-06-05_17-10-02/train_cifar_97c9d_00001_1_batch_size=4,l1=4,l2=64,lr=0.0703_2024-06-05_17-10-02/checkpoint_000000)\n",
      "\u001b[36m(func pid=227894)\u001b[0m Checkpoint successfully created at: Checkpoint(filesystem=local, path=/home/luiz.luz/ray_results/train_cifar_2024-06-05_17-10-02/train_cifar_97c9d_00006_6_batch_size=4,l1=64,l2=8,lr=0.0027_2024-06-05_17-10-02/checkpoint_000000)\n"
     ]
    },
    {
     "name": "stdout",
     "output_type": "stream",
     "text": [
      "\u001b[36m(func pid=227890)\u001b[0m [1, 12000] loss: 0.384\u001b[32m [repeated 8x across cluster]\u001b[0m\n"
     ]
    },
    {
     "name": "stderr",
     "output_type": "stream",
     "text": [
      "\u001b[36m(func pid=227897)\u001b[0m Checkpoint successfully created at: Checkpoint(filesystem=local, path=/home/luiz.luz/ray_results/train_cifar_2024-06-05_17-10-02/train_cifar_97c9d_00009_9_batch_size=8,l1=64,l2=4,lr=0.0103_2024-06-05_17-10-02/checkpoint_000001)\u001b[32m [repeated 5x across cluster]\u001b[0m\n"
     ]
    },
    {
     "name": "stdout",
     "output_type": "stream",
     "text": [
      "\u001b[36m(func pid=227894)\u001b[0m [2,  2000] loss: 1.512\n",
      "\u001b[36m(func pid=227890)\u001b[0m [1, 14000] loss: 0.329\n",
      "\u001b[36m(func pid=227897)\u001b[0m [3,  2000] loss: 1.752\u001b[32m [repeated 4x across cluster]\u001b[0m\n"
     ]
    },
    {
     "name": "stderr",
     "output_type": "stream",
     "text": [
      "\u001b[36m(func pid=227895)\u001b[0m Checkpoint successfully created at: Checkpoint(filesystem=local, path=/home/luiz.luz/ray_results/train_cifar_2024-06-05_17-10-02/train_cifar_97c9d_00007_7_batch_size=16,l1=8,l2=64,lr=0.0002_2024-06-05_17-10-02/checkpoint_000003)\n",
      "\u001b[36m(func pid=227896)\u001b[0m Checkpoint successfully created at: Checkpoint(filesystem=local, path=/home/luiz.luz/ray_results/train_cifar_2024-06-05_17-10-02/train_cifar_97c9d_00008_8_batch_size=16,l1=16,l2=256,lr=0.0073_2024-06-05_17-10-02/checkpoint_000003)\n"
     ]
    },
    {
     "name": "stdout",
     "output_type": "stream",
     "text": [
      "\u001b[36m(func pid=227897)\u001b[0m [3,  4000] loss: 0.878\u001b[32m [repeated 4x across cluster]\u001b[0m\n",
      "\u001b[36m(func pid=227896)\u001b[0m [5,  2000] loss: 1.277\u001b[32m [repeated 5x across cluster]\u001b[0m\n"
     ]
    },
    {
     "name": "stderr",
     "output_type": "stream",
     "text": [
      "\u001b[36m(func pid=227897)\u001b[0m Checkpoint successfully created at: Checkpoint(filesystem=local, path=/home/luiz.luz/ray_results/train_cifar_2024-06-05_17-10-02/train_cifar_97c9d_00009_9_batch_size=8,l1=64,l2=4,lr=0.0103_2024-06-05_17-10-02/checkpoint_000002)\n",
      "\u001b[36m(func pid=227895)\u001b[0m Checkpoint successfully created at: Checkpoint(filesystem=local, path=/home/luiz.luz/ray_results/train_cifar_2024-06-05_17-10-02/train_cifar_97c9d_00007_7_batch_size=16,l1=8,l2=64,lr=0.0002_2024-06-05_17-10-02/checkpoint_000004)\n"
     ]
    },
    {
     "name": "stdout",
     "output_type": "stream",
     "text": [
      "\u001b[36m(func pid=227897)\u001b[0m [4,  2000] loss: 1.742\u001b[32m [repeated 4x across cluster]\u001b[0m\n"
     ]
    },
    {
     "name": "stderr",
     "output_type": "stream",
     "text": [
      "\u001b[36m(func pid=227890)\u001b[0m Checkpoint successfully created at: Checkpoint(filesystem=local, path=/home/luiz.luz/ray_results/train_cifar_2024-06-05_17-10-02/train_cifar_97c9d_00002_2_batch_size=2,l1=1,l2=4,lr=0.0001_2024-06-05_17-10-02/checkpoint_000000)\u001b[32m [repeated 2x across cluster]\u001b[0m\n"
     ]
    },
    {
     "name": "stdout",
     "output_type": "stream",
     "text": [
      "\u001b[36m(func pid=227896)\u001b[0m [6,  2000] loss: 1.246\u001b[32m [repeated 4x across cluster]\u001b[0m\n"
     ]
    },
    {
     "name": "stderr",
     "output_type": "stream",
     "text": [
      "\u001b[36m(func pid=227850)\u001b[0m Checkpoint successfully created at: Checkpoint(filesystem=local, path=/home/luiz.luz/ray_results/train_cifar_2024-06-05_17-10-02/train_cifar_97c9d_00000_0_batch_size=4,l1=8,l2=1,lr=0.0016_2024-06-05_17-10-02/checkpoint_000001)\u001b[32m [repeated 2x across cluster]\u001b[0m\n"
     ]
    },
    {
     "name": "stdout",
     "output_type": "stream",
     "text": [
      "\u001b[36m(func pid=227894)\u001b[0m [3,  2000] loss: 1.452\u001b[32m [repeated 2x across cluster]\u001b[0m\n"
     ]
    },
    {
     "name": "stderr",
     "output_type": "stream",
     "text": [
      "\u001b[36m(func pid=227897)\u001b[0m Checkpoint successfully created at: Checkpoint(filesystem=local, path=/home/luiz.luz/ray_results/train_cifar_2024-06-05_17-10-02/train_cifar_97c9d_00009_9_batch_size=8,l1=64,l2=4,lr=0.0103_2024-06-05_17-10-02/checkpoint_000003)\u001b[32m [repeated 3x across cluster]\u001b[0m\n"
     ]
    },
    {
     "name": "stdout",
     "output_type": "stream",
     "text": [
      "\u001b[36m(func pid=227895)\u001b[0m [7,  2000] loss: 1.545\n",
      "\u001b[36m(func pid=227894)\u001b[0m [3,  4000] loss: 0.716\n"
     ]
    },
    {
     "name": "stderr",
     "output_type": "stream",
     "text": [
      "\u001b[36m(func pid=227895)\u001b[0m Checkpoint successfully created at: Checkpoint(filesystem=local, path=/home/luiz.luz/ray_results/train_cifar_2024-06-05_17-10-02/train_cifar_97c9d_00007_7_batch_size=16,l1=8,l2=64,lr=0.0002_2024-06-05_17-10-02/checkpoint_000006)\n",
      "\u001b[36m(func pid=227896)\u001b[0m Checkpoint successfully created at: Checkpoint(filesystem=local, path=/home/luiz.luz/ray_results/train_cifar_2024-06-05_17-10-02/train_cifar_97c9d_00008_8_batch_size=16,l1=16,l2=256,lr=0.0073_2024-06-05_17-10-02/checkpoint_000006)\n"
     ]
    },
    {
     "name": "stdout",
     "output_type": "stream",
     "text": [
      "\u001b[36m(func pid=227894)\u001b[0m [3,  6000] loss: 0.470\u001b[32m [repeated 2x across cluster]\u001b[0m\n",
      "\u001b[36m(func pid=227894)\u001b[0m [3,  8000] loss: 0.350\u001b[32m [repeated 2x across cluster]\u001b[0m\n"
     ]
    },
    {
     "name": "stderr",
     "output_type": "stream",
     "text": [
      "\u001b[36m(func pid=227895)\u001b[0m Checkpoint successfully created at: Checkpoint(filesystem=local, path=/home/luiz.luz/ray_results/train_cifar_2024-06-05_17-10-02/train_cifar_97c9d_00007_7_batch_size=16,l1=8,l2=64,lr=0.0002_2024-06-05_17-10-02/checkpoint_000007)\n",
      "\u001b[36m(func pid=227896)\u001b[0m Checkpoint successfully created at: Checkpoint(filesystem=local, path=/home/luiz.luz/ray_results/train_cifar_2024-06-05_17-10-02/train_cifar_97c9d_00008_8_batch_size=16,l1=16,l2=256,lr=0.0073_2024-06-05_17-10-02/checkpoint_000007)\n"
     ]
    },
    {
     "name": "stdout",
     "output_type": "stream",
     "text": [
      "\u001b[36m(func pid=227894)\u001b[0m [3, 10000] loss: 0.289\u001b[32m [repeated 2x across cluster]\u001b[0m\n"
     ]
    },
    {
     "name": "stderr",
     "output_type": "stream",
     "text": [
      "\u001b[36m(func pid=227894)\u001b[0m Checkpoint successfully created at: Checkpoint(filesystem=local, path=/home/luiz.luz/ray_results/train_cifar_2024-06-05_17-10-02/train_cifar_97c9d_00006_6_batch_size=4,l1=64,l2=8,lr=0.0027_2024-06-05_17-10-02/checkpoint_000002)\n"
     ]
    },
    {
     "name": "stdout",
     "output_type": "stream",
     "text": [
      "\u001b[36m(func pid=227896)\u001b[0m [9,  2000] loss: 1.210\u001b[32m [repeated 2x across cluster]\u001b[0m\n"
     ]
    },
    {
     "name": "stderr",
     "output_type": "stream",
     "text": [
      "\u001b[36m(func pid=227895)\u001b[0m Checkpoint successfully created at: Checkpoint(filesystem=local, path=/home/luiz.luz/ray_results/train_cifar_2024-06-05_17-10-02/train_cifar_97c9d_00007_7_batch_size=16,l1=8,l2=64,lr=0.0002_2024-06-05_17-10-02/checkpoint_000008)\n"
     ]
    },
    {
     "name": "stdout",
     "output_type": "stream",
     "text": [
      "\u001b[36m(func pid=227894)\u001b[0m [4,  2000] loss: 1.361\n",
      "\u001b[36m(func pid=227895)\u001b[0m [10,  2000] loss: 1.429\n"
     ]
    },
    {
     "name": "stderr",
     "output_type": "stream",
     "text": [
      "\u001b[36m(func pid=227895)\u001b[0m Checkpoint successfully created at: Checkpoint(filesystem=local, path=/home/luiz.luz/ray_results/train_cifar_2024-06-05_17-10-02/train_cifar_97c9d_00007_7_batch_size=16,l1=8,l2=64,lr=0.0002_2024-06-05_17-10-02/checkpoint_000009)\u001b[32m [repeated 2x across cluster]\u001b[0m\n"
     ]
    },
    {
     "name": "stdout",
     "output_type": "stream",
     "text": [
      "\u001b[36m(func pid=227894)\u001b[0m [4,  6000] loss: 0.463\u001b[32m [repeated 3x across cluster]\u001b[0m\n",
      "\u001b[36m(func pid=227894)\u001b[0m [4,  8000] loss: 0.350\n",
      "\u001b[36m(func pid=227894)\u001b[0m [4, 10000] loss: 0.279\n"
     ]
    },
    {
     "name": "stderr",
     "output_type": "stream",
     "text": [
      "\u001b[36m(func pid=227894)\u001b[0m Checkpoint successfully created at: Checkpoint(filesystem=local, path=/home/luiz.luz/ray_results/train_cifar_2024-06-05_17-10-02/train_cifar_97c9d_00006_6_batch_size=4,l1=64,l2=8,lr=0.0027_2024-06-05_17-10-02/checkpoint_000003)\u001b[32m [repeated 2x across cluster]\u001b[0m\n"
     ]
    },
    {
     "name": "stdout",
     "output_type": "stream",
     "text": [
      "\u001b[36m(func pid=227894)\u001b[0m [5,  2000] loss: 1.308\n",
      "\u001b[36m(func pid=227894)\u001b[0m [5,  4000] loss: 0.677\n",
      "\u001b[36m(func pid=227894)\u001b[0m [5,  6000] loss: 0.449\n",
      "\u001b[36m(func pid=227894)\u001b[0m [5,  8000] loss: 0.337\n",
      "\u001b[36m(func pid=227894)\u001b[0m [5, 10000] loss: 0.275\n"
     ]
    },
    {
     "name": "stderr",
     "output_type": "stream",
     "text": [
      "\u001b[36m(func pid=227894)\u001b[0m Checkpoint successfully created at: Checkpoint(filesystem=local, path=/home/luiz.luz/ray_results/train_cifar_2024-06-05_17-10-02/train_cifar_97c9d_00006_6_batch_size=4,l1=64,l2=8,lr=0.0027_2024-06-05_17-10-02/checkpoint_000004)\n"
     ]
    },
    {
     "name": "stdout",
     "output_type": "stream",
     "text": [
      "\u001b[36m(func pid=227894)\u001b[0m [6,  2000] loss: 1.305\n",
      "\u001b[36m(func pid=227894)\u001b[0m [6,  4000] loss: 0.660\n",
      "\u001b[36m(func pid=227894)\u001b[0m [6,  6000] loss: 0.435\n",
      "\u001b[36m(func pid=227894)\u001b[0m [6,  8000] loss: 0.337\n",
      "\u001b[36m(func pid=227894)\u001b[0m [6, 10000] loss: 0.269\n"
     ]
    },
    {
     "name": "stderr",
     "output_type": "stream",
     "text": [
      "\u001b[36m(func pid=227894)\u001b[0m Checkpoint successfully created at: Checkpoint(filesystem=local, path=/home/luiz.luz/ray_results/train_cifar_2024-06-05_17-10-02/train_cifar_97c9d_00006_6_batch_size=4,l1=64,l2=8,lr=0.0027_2024-06-05_17-10-02/checkpoint_000005)\n"
     ]
    },
    {
     "name": "stdout",
     "output_type": "stream",
     "text": [
      "\u001b[36m(func pid=227894)\u001b[0m [7,  2000] loss: 1.277\n",
      "\u001b[36m(func pid=227894)\u001b[0m [7,  4000] loss: 0.637\n",
      "\u001b[36m(func pid=227894)\u001b[0m [7,  6000] loss: 0.434\n",
      "\u001b[36m(func pid=227894)\u001b[0m [7,  8000] loss: 0.329\n",
      "\u001b[36m(func pid=227894)\u001b[0m [7, 10000] loss: 0.262\n"
     ]
    },
    {
     "name": "stderr",
     "output_type": "stream",
     "text": [
      "\u001b[36m(func pid=227894)\u001b[0m Checkpoint successfully created at: Checkpoint(filesystem=local, path=/home/luiz.luz/ray_results/train_cifar_2024-06-05_17-10-02/train_cifar_97c9d_00006_6_batch_size=4,l1=64,l2=8,lr=0.0027_2024-06-05_17-10-02/checkpoint_000006)\n"
     ]
    },
    {
     "name": "stdout",
     "output_type": "stream",
     "text": [
      "\u001b[36m(func pid=227894)\u001b[0m [8,  2000] loss: 1.242\n",
      "\u001b[36m(func pid=227894)\u001b[0m [8,  4000] loss: 0.643\n",
      "\u001b[36m(func pid=227894)\u001b[0m [8,  6000] loss: 0.428\n",
      "\u001b[36m(func pid=227894)\u001b[0m [8,  8000] loss: 0.325\n",
      "\u001b[36m(func pid=227894)\u001b[0m [8, 10000] loss: 0.256\n"
     ]
    },
    {
     "name": "stderr",
     "output_type": "stream",
     "text": [
      "2024-06-05 17:15:32,949\tINFO tune.py:1007 -- Wrote the latest version of all result files and experiment state to '/home/luiz.luz/ray_results/train_cifar_2024-06-05_17-10-02' in 0.0065s.\n",
      "2024-06-05 17:15:32,957\tINFO tune.py:1039 -- Total run time: 330.34 seconds (330.28 seconds for the tuning loop).\n",
      "\u001b[36m(func pid=227894)\u001b[0m Checkpoint successfully created at: Checkpoint(filesystem=local, path=/home/luiz.luz/ray_results/train_cifar_2024-06-05_17-10-02/train_cifar_97c9d_00006_6_batch_size=4,l1=64,l2=8,lr=0.0027_2024-06-05_17-10-02/checkpoint_000007)\n"
     ]
    },
    {
     "name": "stdout",
     "output_type": "stream",
     "text": [
      "Best trial config: {'l1': 16, 'l2': 256, 'lr': 0.0072942022748702755, 'batch_size': 16}\n",
      "Best trial final validation loss: 1.3025706018447876\n",
      "Best trial final validation accuracy: 0.5535\n",
      "Files already downloaded and verified\n",
      "Files already downloaded and verified\n",
      "Best trial test set accuracy: 0.5637\n"
     ]
    }
   ],
   "source": [
    "def main(num_samples=10, max_num_epochs=10, gpus_per_trial=2):\n",
    "    data_dir = os.path.abspath(\"./data\")\n",
    "    load_data(data_dir)\n",
    "    config = {\n",
    "        \"l1\": tune.choice([2**i for i in range(9)]),\n",
    "        \"l2\": tune.choice([2**i for i in range(9)]),\n",
    "        \"lr\": tune.loguniform(1e-4, 1e-1),\n",
    "        \"batch_size\": tune.choice([2, 4, 8, 16]),\n",
    "    }\n",
    "    scheduler = ASHAScheduler(\n",
    "        metric=\"loss\",\n",
    "        mode=\"min\",\n",
    "        max_t=max_num_epochs,\n",
    "        grace_period=1,\n",
    "        reduction_factor=2,\n",
    "    )\n",
    "    result = tune.run(\n",
    "        partial(train_cifar, data_dir=data_dir),\n",
    "        resources_per_trial={\"cpu\": 2, \"gpu\": gpus_per_trial},\n",
    "        config=config,\n",
    "        num_samples=num_samples,\n",
    "        scheduler=scheduler,\n",
    "    )\n",
    "\n",
    "    best_trial = result.get_best_trial(\"loss\", \"min\", \"last\")\n",
    "    print(f\"Best trial config: {best_trial.config}\")\n",
    "    print(f\"Best trial final validation loss: {best_trial.last_result['loss']}\")\n",
    "    print(f\"Best trial final validation accuracy: {best_trial.last_result['accuracy']}\")\n",
    "\n",
    "    best_trained_model = Net(best_trial.config[\"l1\"], best_trial.config[\"l2\"])\n",
    "    device = \"cpu\"\n",
    "    if torch.cuda.is_available():\n",
    "        device = \"cuda:0\"\n",
    "        if gpus_per_trial > 1:\n",
    "            best_trained_model = nn.DataParallel(best_trained_model)\n",
    "    best_trained_model.to(device)\n",
    "\n",
    "    best_checkpoint = result.get_best_checkpoint(trial=best_trial, metric=\"accuracy\", mode=\"max\")\n",
    "    with best_checkpoint.as_directory() as checkpoint_dir:\n",
    "        data_path = Path(checkpoint_dir) / \"data.pkl\"\n",
    "        with open(data_path, \"rb\") as fp:\n",
    "            best_checkpoint_data = pickle.load(fp)\n",
    "\n",
    "        best_trained_model.load_state_dict(best_checkpoint_data[\"net_state_dict\"])\n",
    "        test_acc = test_accuracy(best_trained_model, device)\n",
    "        print(\"Best trial test set accuracy: {}\".format(test_acc))\n",
    "\n",
    "\n",
    "if __name__ == \"__main__\":\n",
    "    # You can change the number of GPUs per trial here:\n",
    "    main(num_samples=10, max_num_epochs=10, gpus_per_trial=0)"
   ]
  },
  {
   "cell_type": "markdown",
   "metadata": {},
   "source": [
    "If you run the code, an example output could look like this:\n",
    "\n",
    "``` {.sourceCode .sh}\n",
    "Number of trials: 10/10 (10 TERMINATED)\n",
    "+-----+--------------+------+------+-------------+--------+---------+------------+\n",
    "| ... |   batch_size |   l1 |   l2 |          lr |   iter |    loss |   accuracy |\n",
    "|-----+--------------+------+------+-------------+--------+---------+------------|\n",
    "| ... |            2 |    1 |  256 | 0.000668163 |      1 | 2.31479 |     0.0977 |\n",
    "| ... |            4 |   64 |    8 | 0.0331514   |      1 | 2.31605 |     0.0983 |\n",
    "| ... |            4 |    2 |    1 | 0.000150295 |      1 | 2.30755 |     0.1023 |\n",
    "| ... |           16 |   32 |   32 | 0.0128248   |     10 | 1.66912 |     0.4391 |\n",
    "| ... |            4 |    8 |  128 | 0.00464561  |      2 | 1.7316  |     0.3463 |\n",
    "| ... |            8 |  256 |    8 | 0.00031556  |      1 | 2.19409 |     0.1736 |\n",
    "| ... |            4 |   16 |  256 | 0.00574329  |      2 | 1.85679 |     0.3368 |\n",
    "| ... |            8 |    2 |    2 | 0.00325652  |      1 | 2.30272 |     0.0984 |\n",
    "| ... |            2 |    2 |    2 | 0.000342987 |      2 | 1.76044 |     0.292  |\n",
    "| ... |            4 |   64 |   32 | 0.003734    |      8 | 1.53101 |     0.4761 |\n",
    "+-----+--------------+------+------+-------------+--------+---------+------------+\n",
    "\n",
    "Best trial config: {'l1': 64, 'l2': 32, 'lr': 0.0037339984519545164, 'batch_size': 4}\n",
    "Best trial final validation loss: 1.5310075663924216\n",
    "Best trial final validation accuracy: 0.4761\n",
    "Best trial test set accuracy: 0.4737\n",
    "```\n",
    "\n",
    "Most trials have been stopped early in order to avoid wasting resources.\n",
    "The best performing trial achieved a validation accuracy of about 47%,\n",
    "which could be confirmed on the test set.\n",
    "\n",
    "So that\\'s it! You can now tune the parameters of your PyTorch models.\n"
   ]
  }
 ],
 "metadata": {
  "kernelspec": {
   "display_name": "Python 3",
   "language": "python",
   "name": "python3"
  },
  "language_info": {
   "codemirror_mode": {
    "name": "ipython",
    "version": 3
   },
   "file_extension": ".py",
   "mimetype": "text/x-python",
   "name": "python",
   "nbconvert_exporter": "python",
   "pygments_lexer": "ipython3",
   "version": "3.10.12"
  }
 },
 "nbformat": 4,
 "nbformat_minor": 0
}
