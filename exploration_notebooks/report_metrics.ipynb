{
 "cells": [
  {
   "cell_type": "markdown",
   "metadata": {},
   "source": [
    "# Análise dos Resultados Obtidos durante as Iterações do Processo de Active Learning\n",
    "Nesse notebok estão algumas métricas de avaliação do processo iterativo.\n",
    "\n",
    "- Evolução da quantidade durante as iterações\n",
    "- Evolução das métricas de algumas métricas, como: Acurácia, F1-Score, KappaScore e IoU"
   ]
  },
  {
   "cell_type": "markdown",
   "metadata": {},
   "source": [
    "## Setup"
   ]
  },
  {
   "cell_type": "code",
   "execution_count": null,
   "metadata": {},
   "outputs": [],
   "source": [
    "%load_ext autoreload\n",
    "%autoreload 2"
   ]
  },
  {
   "cell_type": "code",
   "execution_count": null,
   "metadata": {},
   "outputs": [],
   "source": [
    "import sys\n",
    "\n",
    "sys.path.append(\"..\")\n",
    "\n",
    "import os\n",
    "from PIL import Image\n",
    "from collections.abc import Iterable\n",
    "from os.path import dirname, join\n",
    "\n",
    "import matplotlib.pyplot as plt\n",
    "from matplotlib.animation import FuncAnimation\n",
    "\n",
    "import numpy as np\n",
    "import pandas as pd\n",
    "import seaborn as sns\n",
    "import torch.optim\n",
    "from joblib import Parallel, delayed\n",
    "from matplotlib.ticker import FuncFormatter\n",
    "from skimage.color import label2rgb\n",
    "# load label\n",
    "from skimage.measure import label\n",
    "import subprocess\n",
    "\n",
    "from utils import autolabel\n",
    "from pred2raster import pred2raster\n",
    "from sample_selection import get_components_stats\n",
    "from src.io_operations import fix_relative_paths, load_args, read_tiff, read_yaml\n",
    "\n",
    "from IPython.display import HTML, display\n",
    "\n",
    "from millify import  millify\n",
    "\n",
    "from matplotlib import rc"
   ]
  },
  {
   "cell_type": "code",
   "execution_count": null,
   "metadata": {},
   "outputs": [],
   "source": [
    "import matplotlib.font_manager"
   ]
  },
  {
   "cell_type": "code",
   "execution_count": null,
   "metadata": {},
   "outputs": [],
   "source": [
    "# Style plots\n",
    "sns.set_theme(style=\"whitegrid\", font=\"Times New Roman\")\n",
    "\n",
    "# set figsize\n",
    "plt.rcParams[\"figure.figsize\"] = (8, 5)\n",
    "\n",
    "# increase DPI\n",
    "plt.rcParams[\"figure.dpi\"] = 120\n",
    "\n",
    "# font family\n",
    "plt.rcParams['font.family'] = 'times new roman'\n",
    "\n",
    "\n",
    "# Dict to store colors\n",
    "dict_colors = {}\n",
    "\n",
    "# Parallel jobs to load metrics\n",
    "N_JOBS = 4"
   ]
  },
  {
   "cell_type": "markdown",
   "metadata": {},
   "source": [
    "## Defina a pasta com a saída do processo de Active Learning"
   ]
  },
  {
   "cell_type": "code",
   "execution_count": null,
   "metadata": {},
   "outputs": [],
   "source": [
    "# repo with data\n",
    "VERSION_FOLDER = \"/media/dariossh/Extreme SSD/Arquivos SSH/2.8.5_version_data\"\n",
    "DATA_PATH = join(dirname(os.getcwd()), VERSION_FOLDER)\n",
    "\n",
    "# load args from the version\n",
    "args = load_args(join(DATA_PATH, \"args.yaml\"))"
   ]
  },
  {
   "cell_type": "code",
   "execution_count": null,
   "metadata": {},
   "outputs": [],
   "source": [
    "INPUT_PATH = \"../amazon_input_data\""
   ]
  },
  {
   "cell_type": "code",
   "execution_count": null,
   "metadata": {},
   "outputs": [],
   "source": [
    "def get_iter_stats(iter_folder, labels_file=\"all_labels_set.tif\"):\n",
    "    num_iter = int(iter_folder.split(\"_\")[1])\n",
    "    if num_iter != 0:\n",
    "        label_path = join(DATA_PATH, iter_folder, \"new_labels\", labels_file)\n",
    "        \n",
    "    else:\n",
    "        label_path = args.train_segmentation_path\n",
    "\n",
    "    label_img = read_tiff(label_path)\n",
    "\n",
    "    components = label(label_image = label_img)\n",
    "\n",
    "    components_stats = get_components_stats(components, label_img)\n",
    "    components_stats.reset_index(inplace=True)\n",
    "\n",
    "    iter_num = int(iter_folder.split(\"_\")[1])\n",
    "\n",
    "    components_stats[\"iter\"] = f\"iter_{iter_num:03d}\"\n",
    "\n",
    "    components_stats[\"iter_num\"] = iter_num\n",
    "\n",
    "    return components_stats"
   ]
  },
  {
   "cell_type": "markdown",
   "metadata": {},
   "source": [
    "## Data loading"
   ]
  },
  {
   "cell_type": "code",
   "execution_count": null,
   "metadata": {},
   "outputs": [],
   "source": [
    "id_tree = pd.read_csv(join(INPUT_PATH,\"id_trees.csv\"), index_col=\"ID\")[\"Nome popular\"].sort_values()"
   ]
  },
  {
   "cell_type": "code",
   "execution_count": null,
   "metadata": {},
   "outputs": [],
   "source": [
    "# load data from all iterations\n",
    "iter_folders = os.listdir(DATA_PATH)\n",
    "\n",
    "iter_folders = [folder for folder in iter_folders if folder.startswith(\"iter_\")]\n",
    "\n",
    "iter_folders.sort()\n",
    "\n",
    "iter_folders.pop();"
   ]
  },
  {
   "cell_type": "code",
   "execution_count": null,
   "metadata": {},
   "outputs": [],
   "source": [
    "OUTPUT_PATH_ALL_LABELS_STATS = join(DATA_PATH, \"all_labels_stats.parquet\")\n",
    "\n",
    "if not os.path.exists(OUTPUT_PATH_ALL_LABELS_STATS):\n",
    "    # carregando dados sobre cada iteracao\n",
    "    all_iter_stats = Parallel(n_jobs=N_JOBS)(\n",
    "        delayed(get_iter_stats)(iter_folder, \"all_labels_set.tif\")\n",
    "        for iter_folder in iter_folders\n",
    "    )\n",
    "\n",
    "    # all_iter_stats corresponde dados gerados para o banco de imagens\n",
    "    all_labels_stats = pd.concat(all_iter_stats)\n",
    "\n",
    "    all_labels_stats[\"tree_name\"] = all_labels_stats[\"tree_type\"].map(id_tree)\n",
    "    \n",
    "    all_labels_stats.to_parquet(OUTPUT_PATH_ALL_LABELS_STATS)\n",
    "\n",
    "\n",
    "all_labels_stats = pd.read_parquet(OUTPUT_PATH_ALL_LABELS_STATS)"
   ]
  },
  {
   "cell_type": "code",
   "execution_count": null,
   "metadata": {},
   "outputs": [],
   "source": [
    "OUTPUT_PATH_SELECTED_LABELS_STATS = join(DATA_PATH, \"selected_labels_stats.parquet\")\n",
    "\n",
    "if not os.path.exists(OUTPUT_PATH_SELECTED_LABELS_STATS):\n",
    "    selected_iter_stats = Parallel(n_jobs=N_JOBS)(\n",
    "        delayed(get_iter_stats)(iter_folder, \"selected_labels_set.tif\")\n",
    "        for iter_folder in iter_folders\n",
    "    )\n",
    "\n",
    "    # all_iter_stats corresponde dados gerados para o cojunto de treinamento\n",
    "    selected_labels_stats = pd.concat(selected_iter_stats)\n",
    "    \n",
    "    selected_labels_stats[\"tree_name\"] = selected_labels_stats[\"tree_type\"].map(id_tree)\n",
    "\n",
    "    selected_labels_stats.to_parquet(OUTPUT_PATH_SELECTED_LABELS_STATS)\n",
    "\n",
    "selected_labels_stats = pd.read_parquet(OUTPUT_PATH_SELECTED_LABELS_STATS)\n"
   ]
  },
  {
   "cell_type": "code",
   "execution_count": null,
   "metadata": {},
   "outputs": [],
   "source": [
    "metrics_evo = []\n",
    "\n",
    "for iter in iter_folders[1:]:\n",
    "    accu = read_yaml(os.path.join(DATA_PATH, iter, \"test_metrics.yaml\"))\n",
    "    \n",
    "    metrics_evo.append(accu)\n",
    "    \n",
    "metrics_evo = pd.DataFrame(metrics_evo)"
   ]
  },
  {
   "cell_type": "code",
   "execution_count": null,
   "metadata": {},
   "outputs": [],
   "source": [
    "if all_labels_stats[\"tree_type\"].nunique() == 17:\n",
    "    dict_colors[\"tree_name\"] = {\n",
    "        key: color for key, color in zip(id_tree, sns.color_palette(\"tab20\"))\n",
    "    }\n",
    "\n",
    "    dict_colors[\"tree_type\"] = {\n",
    "        key: color for key, color in zip(range(0, 18), sns.color_palette(\"tab20\"))\n",
    "    }"
   ]
  },
  {
   "cell_type": "code",
   "execution_count": null,
   "metadata": {},
   "outputs": [],
   "source": [
    "\n",
    "if all_labels_stats[\"tree_type\"].nunique() == 14:\n",
    "    \n",
    "    DEFAULT_COLORS = ('silver', 'blue', 'yellow', 'magenta', 'green', \n",
    "                        'indigo', 'darkorange', 'cyan', 'pink', 'yellowgreen', \n",
    "                        'red', 'darkgreen', 'gold', 'teal')\n",
    "\n",
    "    dict_colors[\"tree_name\"] = {\n",
    "        key: color for key, color in zip(id_tree, DEFAULT_COLORS)\n",
    "    }\n",
    "\n",
    "    dict_colors[\"tree_type\"] = {\n",
    "        key: color for key, color in zip(range(0, 18), DEFAULT_COLORS)\n",
    "    }"
   ]
  },
  {
   "cell_type": "markdown",
   "metadata": {},
   "source": [
    "## Evolução da Quantidade de Instâncias e Área Segmentada\n",
    "Para essa análise, serão consideradas instâncias presentes no inventário de amostras. Nesse inventário estão as amostras em que o modelo teve alta confiança na predição e que passaram pelo filtro de seleção com base nas heurísticas."
   ]
  },
  {
   "cell_type": "code",
   "execution_count": null,
   "metadata": {},
   "outputs": [],
   "source": [
    "# change size fig\n",
    "fig = plt.gcf()\n",
    "\n",
    "count_tree_by_iter = all_labels_stats.groupby([\"iter_num\"], as_index=False, sort=True)[\"label\"].nunique()\n",
    "count_tree_by_iter.rename(columns={\"label\": \"n_trees\"}, inplace=True)\n",
    "\n",
    "ax = sns.lineplot(\n",
    "    data=count_tree_by_iter,\n",
    "    x=\"iter_num\",\n",
    "    y=\"n_trees\",\n",
    ")\n",
    "\n",
    "ax.set_title(\"Number of trees per iteration\")\n",
    "\n",
    "# set outside box legend\n",
    "# ax.legend(bbox_to_anchor=(1.05, 1), loc=2, borderaxespad=0.0, title=\"Tree Types\")\n",
    "\n",
    "plt.show()"
   ]
  },
  {
   "cell_type": "code",
   "execution_count": null,
   "metadata": {},
   "outputs": [],
   "source": [
    "# Segmentation area per iteration\n",
    "# change size fig\n",
    "fig = plt.gcf()\n",
    "fig.set_size_inches(12, 5)\n",
    "\n",
    "area_tree_by_iter = all_labels_stats.groupby([\"iter_num\"], as_index=False, sort=True)[\"area\"].sum()\n",
    "area_tree_by_iter.rename(columns={\"label\": \"n_trees\"}, inplace=True)\n",
    "\n",
    "ax = sns.lineplot(\n",
    "    data=area_tree_by_iter,\n",
    "    x=\"iter_num\",\n",
    "    y=\"area\",\n",
    ")\n",
    "\n",
    "ax.set_title(\"Segmented area per iteration\")\n",
    "ax.set_ylabel(\"Area (pxl²)\")\n",
    "ax.set_xlabel(\"Iteration\")\n",
    "\n",
    "# set outside box legend\n",
    "ax.legend(bbox_to_anchor=(1.05, 1), loc=2, borderaxespad=0.0, title=\"Tree Types\")\n",
    "\n",
    "plt.show()\n",
    "\n"
   ]
  },
  {
   "cell_type": "code",
   "execution_count": null,
   "metadata": {},
   "outputs": [],
   "source": [
    "count_tree_type_by_iter = all_labels_stats.groupby([\"iter_num\", \"tree_name\"], as_index=False, sort=True)[\"label\"].nunique()\n",
    "count_tree_type_by_iter.rename(columns={\"label\": \"n_trees\"}, inplace=True)"
   ]
  },
  {
   "cell_type": "code",
   "execution_count": null,
   "metadata": {},
   "outputs": [],
   "source": [
    "# change size fig\n",
    "fig = plt.gcf()\n",
    "fig.set_size_inches(12, 5)\n",
    "\n",
    "ax = sns.lineplot(\n",
    "    data=count_tree_type_by_iter,\n",
    "    x=\"iter_num\",\n",
    "    y=\"n_trees\",\n",
    "    hue=\"tree_name\",\n",
    "    errorbar = None,\n",
    "    palette=dict_colors[\"tree_name\"],\n",
    ")\n",
    "\n",
    "ax.set_title(\"Number of trees per iteration\")\n",
    "\n",
    "# set outside box legend\n",
    "ax.legend(bbox_to_anchor=(1.05, 1), loc=2, borderaxespad=0.0, title=\"Tree Types\")\n",
    "\n",
    "plt.show()\n",
    "\n",
    "print(\"Evolução por espécies\")\n",
    "display(\n",
    "    count_tree_type_by_iter.pivot(columns=\"iter_num\", index=\"tree_name\", values=\"n_trees\").style.background_gradient(axis = 1)\n",
    ")"
   ]
  },
  {
   "cell_type": "code",
   "execution_count": null,
   "metadata": {},
   "outputs": [],
   "source": [
    "fig = plt.gcf()\n",
    "fig.set_size_inches(12, 5)\n",
    "\n",
    "ax = sns.lineplot(\n",
    "    data=all_labels_stats,\n",
    "    x=\"iter_num\",\n",
    "    y=\"area\",\n",
    "    hue=\"tree_name\",\n",
    "    estimator=\"sum\",\n",
    "    errorbar=None,\n",
    "    palette=dict_colors[\"tree_name\"],\n",
    ")\n",
    "\n",
    "ax.set_title(\"Segmentation Area per iteration\")\n",
    "\n",
    "ax.set_ylabel(\"Area (pxl)\")\n",
    "ax.set_xlabel(\"Iterarion\")\n",
    "\n",
    "ax.yaxis.set_major_formatter(FuncFormatter(lambda y, _: f\"{millify(y, 2)}\"))\n",
    "\n",
    "# set outside box legend\n",
    "ax.legend(bbox_to_anchor=(1.05, 1), loc=2, borderaxespad=0.0, title=\"Tree Types\")\n",
    "\n",
    "plt.show()"
   ]
  },
  {
   "cell_type": "code",
   "execution_count": null,
   "metadata": {},
   "outputs": [],
   "source": [
    "fig = plt.gcf()\n",
    "fig.set_size_inches(17, 3)\n",
    "\n",
    "ax = sns.barplot(\n",
    "    data=all_labels_stats[all_labels_stats[\"iter_num\"] == 0],\n",
    "    x=\"tree_name\",\n",
    "    y=\"label\",\n",
    "    estimator=lambda group: group.nunique(),\n",
    "    errorbar=None,\n",
    "    order=all_labels_stats[all_labels_stats[\"iter_num\"] == 0]\n",
    "            .groupby(\"tree_name\")[\"label\"]\n",
    "            .nunique()\n",
    "            .sort_values(ascending=False)\n",
    "            .index,\n",
    "    palette=dict_colors[\"tree_name\"],\n",
    "    hue = \"tree_name\"\n",
    ")\n",
    "\n",
    "ax.set_title(f\"Number of Trees at the Start\")\n",
    "\n",
    "ax.yaxis.set_major_formatter(FuncFormatter(lambda y, _: f\"{millify(y, 2)}\"))\n",
    "\n",
    "ax.legend(loc='upper left', bbox_to_anchor=(1, 1))\n",
    "\n",
    "ax.tick_params(axis='x', rotation=45)\n",
    "\n",
    "autolabel(ax, \"{:,.0f}\")\n",
    "\n",
    "plt.show()\n",
    "\n",
    "\n",
    "### LAST ITER  ###\n",
    "fig = plt.gcf()\n",
    "fig.set_size_inches(17, 3)\n",
    "\n",
    "\n",
    "ax = sns.barplot(\n",
    "    data=all_labels_stats[all_labels_stats[\"iter_num\"] == all_labels_stats[\"iter_num\"].max()],\n",
    "    x=\"tree_name\",\n",
    "    y=\"label\",\n",
    "    estimator=lambda group: group.nunique(),\n",
    "    errorbar=None,\n",
    "    order=all_labels_stats[all_labels_stats[\"iter_num\"] == all_labels_stats[\"iter_num\"].max()].groupby(\"tree_name\")[\"label\"]\n",
    "        .nunique()\n",
    "        .sort_values(ascending=False)\n",
    "        .index,\n",
    "    palette=dict_colors[\"tree_name\"],\n",
    "    hue=\"tree_name\"\n",
    ")\n",
    "\n",
    "\n",
    "ax.set_title(f\"Number of Trees at {all_labels_stats['iter_num'].max()}th Iteration\")\n",
    "\n",
    "autolabel(ax, \"{:,.0f}\")\n",
    "\n",
    "ax.yaxis.set_major_formatter(FuncFormatter(lambda y, _: f\"{millify(y, 2)}\"))\n",
    "\n",
    "ax.tick_params(axis='x', rotation=45)\n",
    "\n",
    "plt.show()"
   ]
  },
  {
   "cell_type": "code",
   "execution_count": null,
   "metadata": {},
   "outputs": [],
   "source": [
    "fig = plt.gcf()\n",
    "fig.set_size_inches(17, 4)\n",
    "\n",
    "ax = sns.barplot(\n",
    "    data=all_labels_stats[all_labels_stats[\"iter_num\"] == 0],\n",
    "    x=\"tree_name\",\n",
    "    y=\"area\",\n",
    "    estimator=lambda group: group.sum(),\n",
    "    errorbar=None,\n",
    "    order=all_labels_stats[all_labels_stats[\"iter_num\"] == 0]\n",
    "            .groupby(\"tree_name\")[\"area\"]\n",
    "            .sum()\n",
    "            .sort_values(ascending=False)\n",
    "            .index,\n",
    "    palette=dict_colors[\"tree_name\"],\n",
    "    hue = \"tree_name\"\n",
    ")\n",
    "\n",
    "ax.set_title(f\"Segmentation Area at the Start\")\n",
    "\n",
    "ax.yaxis.set_major_formatter(FuncFormatter(lambda y, _: f\"{millify(y, 2)}\"))\n",
    "\n",
    "ax.legend(loc='upper left', bbox_to_anchor=(1, 1))\n",
    "\n",
    "ax.tick_params(axis='x', rotation=45)\n",
    "\n",
    "autolabel(ax, \"{:,.0f}\")\n",
    "\n",
    "plt.show()\n",
    "\n",
    "\n",
    "### LAST ITER  ###\n",
    "fig = plt.gcf()\n",
    "fig.set_size_inches(17, 4)\n",
    "\n",
    "\n",
    "ax = sns.barplot(\n",
    "    data=all_labels_stats[all_labels_stats[\"iter_num\"] == all_labels_stats[\"iter_num\"].max()],\n",
    "    x=\"tree_name\",\n",
    "    y=\"area\",\n",
    "    estimator=lambda group: group.sum(),\n",
    "    errorbar=None,\n",
    "    order=all_labels_stats[all_labels_stats[\"iter_num\"] == all_labels_stats[\"iter_num\"].max()].groupby(\"tree_name\")[\"area\"]\n",
    "        .sum()\n",
    "        .sort_values(ascending=False)\n",
    "        .index,\n",
    "    palette=dict_colors[\"tree_name\"],\n",
    "    hue=\"tree_name\"\n",
    ")\n",
    "\n",
    "\n",
    "ax.set_title(f\"Segmentation Area at {all_labels_stats['iter_num'].max()}th Iteration\")\n",
    "\n",
    "autolabel(ax, \"{:,.0f}\")\n",
    "\n",
    "ax.yaxis.set_major_formatter(FuncFormatter(lambda y, _: f\"{millify(y, 2)}\"))\n",
    "\n",
    "ax.tick_params(axis='x', rotation=45)\n",
    "\n",
    "plt.show()"
   ]
  },
  {
   "cell_type": "markdown",
   "metadata": {},
   "source": [
    "## Evolução Temporal do Conjunto de Treino\n",
    "\n",
    "O conjunto de treino corresponde apenas as labels usadas para treinar o modelo, ou seja, esses dados são apenas um subconjunto do inventário com amostras de alta confiança.\n",
    "\n",
    "Essas análises tem como objetivo identificar o balanceamento das amostras usadas no treino"
   ]
  },
  {
   "cell_type": "code",
   "execution_count": null,
   "metadata": {},
   "outputs": [],
   "source": [
    "ax = sns.lineplot(\n",
    "    data=selected_labels_stats,\n",
    "    x=\"iter_num\",\n",
    "    y=\"area\",\n",
    "    hue=\"tree_name\",\n",
    "    estimator=\"sum\",\n",
    "    errorbar=None,\n",
    "    palette=dict_colors[\"tree_name\"],\n",
    ")\n",
    "\n",
    "ax.set_title(\"Segmentation Area per iteration\")\n",
    "\n",
    "# set y log scale\n",
    "ax.set_yscale(\"log\")\n",
    "\n",
    "ax.set_ylabel(\"Area (pxl)\")\n",
    "ax.set_xlabel(\"Iterarion\")\n",
    "\n",
    "# set outside box legend\n",
    "ax.legend(bbox_to_anchor=(1.05, 1), loc=2, borderaxespad=0.0, title=\"Tree Types\")\n",
    "\n",
    "plt.show()"
   ]
  },
  {
   "cell_type": "code",
   "execution_count": null,
   "metadata": {},
   "outputs": [],
   "source": [
    "count_by_iter = selected_labels_stats.groupby(\n",
    "    [\"tree_name\", \"iter_num\"], as_index=False, sort=True\n",
    ")[\"label\"].nunique()\n",
    "count_by_iter.rename(columns={\"label\": \"n_trees\"}, inplace=True)\n",
    "\n",
    "# change size fig\n",
    "fig = plt.gcf()\n",
    "fig.set_size_inches(10, 5)\n",
    "\n",
    "ax = sns.lineplot(\n",
    "    data=count_by_iter,\n",
    "    x=\"iter_num\",\n",
    "    y=\"n_trees\",\n",
    "    hue=\"tree_name\",\n",
    "    errorbar=None,\n",
    "    palette=dict_colors[\"tree_name\"],\n",
    ")\n",
    "# set outside box legend\n",
    "ax.legend(bbox_to_anchor=(1.05, 1), loc=2, borderaxespad=0.0, title=\"Tree Types\")\n",
    "ax.set_title(\"Number of trees per iteration\")\n",
    "\n",
    "plt.show()"
   ]
  },
  {
   "cell_type": "markdown",
   "metadata": {},
   "source": [
    "# Evolução da Distribuição da Área Durante as Iterações"
   ]
  },
  {
   "cell_type": "code",
   "execution_count": null,
   "metadata": {},
   "outputs": [],
   "source": [
    "\n",
    "def format_y_ticks(value, _):\n",
    "    return millify(value, precision=1)\n",
    "\n"
   ]
  },
  {
   "cell_type": "code",
   "execution_count": null,
   "metadata": {},
   "outputs": [],
   "source": [
    "# Group the data by tree type\n",
    "grouped_data = all_labels_stats.groupby('tree_name')\n",
    "\n",
    "# Create a boxplot for each tree type\n",
    "for num, (name, group) in enumerate(grouped_data):\n",
    "    \n",
    "    fig, axes = plt.subplots(figsize=(7, 3), sharey=True, sharex=True)\n",
    "\n",
    "    sns.boxplot(\n",
    "        group,\n",
    "        x=\"iter_num\",\n",
    "        y=\"area\",\n",
    "        hue = \"tree_name\",\n",
    "        palette=dict_colors[\"tree_name\"],\n",
    "        ax = axes,\n",
    "        showfliers = False\n",
    "    )\n",
    "    \n",
    "    # Set the labels and title\n",
    "    axes.set_xlabel('Iteration')\n",
    "    axes.set_ylabel('Area (pxl²)')\n",
    "    axes.set_title(f'{name}')\n",
    "\n",
    "    ax.yaxis.set_major_formatter(plt.FuncFormatter(format_y_ticks))\n",
    "\n",
    "    # Show the plot\n",
    "    plt.show()\n",
    "\n"
   ]
  },
  {
   "cell_type": "markdown",
   "metadata": {},
   "source": [
    "## Evolução das Métricas Durante as Iterações"
   ]
  },
  {
   "cell_type": "code",
   "execution_count": null,
   "metadata": {},
   "outputs": [],
   "source": [
    "ax = sns.lineplot(metrics_evo[\"Accuracy\"])\n",
    "ax.set_ylim(40, 100)\n",
    "ax.set_title(\"Accuracy\")\n",
    "plt.show()"
   ]
  },
  {
   "cell_type": "code",
   "execution_count": null,
   "metadata": {},
   "outputs": [],
   "source": [
    "ax = sns.lineplot(metrics_evo[\"avgF1\"])\n",
    "ax.set_ylim(40, 100)\n",
    "ax.set_title(\"F1 Score\")\n",
    "plt.show()"
   ]
  },
  {
   "cell_type": "code",
   "execution_count": null,
   "metadata": {},
   "outputs": [],
   "source": [
    "ax = sns.lineplot(metrics_evo[\"KappaScore\"])\n",
    "ax.set_ylim(40, 100)\n",
    "ax.set_title(\"KappaScore\")\n",
    "plt.show()"
   ]
  },
  {
   "cell_type": "code",
   "execution_count": null,
   "metadata": {},
   "outputs": [],
   "source": [
    "ax = sns.lineplot(metrics_evo[\"avgIOU\"])\n",
    "ax.set_ylim(0, 100)\n",
    "ax.set_title(\"Intersection Over True Label Area\")\n",
    "plt.show()"
   ]
  },
  {
   "cell_type": "markdown",
   "metadata": {},
   "source": [
    "## Evolução do F1-Score para Cada Espécie"
   ]
  },
  {
   "cell_type": "code",
   "execution_count": null,
   "metadata": {},
   "outputs": [],
   "source": [
    "metrics_evo_tree = metrics_evo[\"F1\"].apply(pd.Series)\n",
    "\n",
    "metrics_evo_tree_stack = metrics_evo_tree.stack().reset_index()\n",
    "\n",
    "metrics_evo_tree_stack.rename(columns={0:\"f1_score\", \"level_1\":\"tree_type\",'level_0':\"iter\" }, inplace=True)\n",
    "\n",
    "metrics_evo_tree_stack[\"iter\"] += 1\n",
    "metrics_evo_tree_stack[\"tree_type\"] += 1\n",
    "\n",
    "metrics_evo_tree_stack[\"tree_name\"] = metrics_evo_tree_stack[\"tree_type\"].map(id_tree)"
   ]
  },
  {
   "cell_type": "code",
   "execution_count": null,
   "metadata": {},
   "outputs": [],
   "source": [
    "g = sns.FacetGrid(\n",
    "    metrics_evo_tree_stack,\n",
    "    col=\"tree_name\",\n",
    "    col_wrap=3, \n",
    "    hue = \"tree_name\",\n",
    "    palette = dict_colors[\"tree_name\"]\n",
    ")\n",
    "\n",
    "g.map(sns.lineplot, \"iter\", \"f1_score\")\n",
    "\n",
    "g.set_titles(\"{col_name}\")\n",
    "\n",
    "plt.show()"
   ]
  },
  {
   "cell_type": "code",
   "execution_count": null,
   "metadata": {},
   "outputs": [],
   "source": [
    "VIEW_CONTOUR_PATH = join(VERSION_FOLDER, \"visualization\", \"synthetic_all_labels\")\n",
    "\n",
    "views_path = os.listdir(VIEW_CONTOUR_PATH)\n",
    "views_path.sort()\n",
    "\n",
    "LAST_VIEW = join(VIEW_CONTOUR_PATH, views_path[-1])\n",
    "\n",
    "VIEW_SEG_CONTOUR = plt.imread(LAST_VIEW)"
   ]
  },
  {
   "cell_type": "code",
   "execution_count": null,
   "metadata": {},
   "outputs": [],
   "source": [
    "plt.figure(dpi = 600)\n",
    "plt.imshow(VIEW_SEG_CONTOUR)\n",
    "plt.axis(\"off\")\n",
    "plt.show()"
   ]
  },
  {
   "cell_type": "markdown",
   "metadata": {},
   "source": [
    "## Animação da Evolução de Amostras"
   ]
  },
  {
   "cell_type": "code",
   "execution_count": null,
   "metadata": {},
   "outputs": [],
   "source": [
    "VIEW_SEG_PATH = join(VERSION_FOLDER, \"visualization\", \"all_labels\")\n",
    "\n",
    "# Load your images\n",
    "image_paths = os.listdir(VIEW_SEG_PATH)  # Update with your image paths\n",
    "image_paths = [join(VIEW_SEG_PATH, image_path) for image_path in image_paths]\n",
    "image_paths.sort()"
   ]
  },
  {
   "cell_type": "code",
   "execution_count": null,
   "metadata": {},
   "outputs": [],
   "source": [
    "images = [Image.open(path) for path in image_paths]\n",
    "\n",
    "# Create a figure and axis\n",
    "fig, ax = plt.subplots()\n",
    "\n",
    "def init():\n",
    "    ax.imshow(images[0])\n",
    "    ax.axis('off')  # Turn off axis\n",
    "\n",
    "# Function to update the plot for each frame of the animation\n",
    "def update(frame):\n",
    "    ax.imshow(images[frame])\n",
    "    ax.axis('off')  # Turn off axis\n",
    "    ax.set_title(f\"Iter: {frame}\")\n",
    "\n",
    "    # return ax\n",
    "\n",
    "# Create the animation\n",
    "num_frames = len(images)\n",
    "ani = FuncAnimation(fig, update, frames=num_frames, blit=False, interval = 1000)\n",
    "\n",
    "# Display the animation in the notebook\n",
    "# ani\n",
    "display(HTML(ani.to_jshtml()))\n",
    "\n",
    "plt.close()"
   ]
  },
  {
   "cell_type": "code",
   "execution_count": null,
   "metadata": {},
   "outputs": [],
   "source": [
    "images = [Image.open(path) for path in image_paths]\n",
    "\n",
    "for num, image in enumerate(images):\n",
    "    fig, ax = plt.subplots()\n",
    "    ax.set_title(f\"Iter {num+1}\")\n",
    "    \n",
    "    ax.imshow(image)\n",
    "    plt.axis(\"off\")\n",
    "    plt.show()\n",
    "    "
   ]
  },
  {
   "cell_type": "markdown",
   "metadata": {},
   "source": [
    "# Exportando Relatório"
   ]
  },
  {
   "cell_type": "code",
   "execution_count": null,
   "metadata": {},
   "outputs": [],
   "source": [
    "DATA_PATH"
   ]
  },
  {
   "cell_type": "code",
   "execution_count": null,
   "metadata": {},
   "outputs": [],
   "source": [
    "# Example of running 'ls -l' and capturing output\n",
    "result = subprocess.run([\n",
    "    \"jupyter\", \n",
    "    \"nbconvert\", \n",
    "    \"--to\", \n",
    "    \"html\",\n",
    "    \"report_metrics.ipynb\", \n",
    "    f\"--output-dir={DATA_PATH}\"], \n",
    "    capture_output=True, \n",
    "    text=True\n",
    ")\n",
    "\n",
    "print(result.stdout)"
   ]
  },
  {
   "cell_type": "markdown",
   "metadata": {},
   "source": []
  }
 ],
 "metadata": {
  "language_info": {
   "name": "python"
  }
 },
 "nbformat": 4,
 "nbformat_minor": 2
}
